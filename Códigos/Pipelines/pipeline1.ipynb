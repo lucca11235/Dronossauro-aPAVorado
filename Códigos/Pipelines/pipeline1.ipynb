{
 "cells": [
  {
   "cell_type": "markdown",
   "metadata": {},
   "source": [
    "# Imports"
   ]
  },
  {
   "cell_type": "code",
   "execution_count": 72,
   "metadata": {},
   "outputs": [],
   "source": [
    "from langchain_core.prompts import PromptTemplate\n",
    "from langchain_core.pydantic_v1 import BaseModel, Field\n",
    "from langchain_experimental.llms.ollama_functions import OllamaFunctions\n",
    "\n",
    "import os\n",
    "import csv\n",
    "import speech_recognition as sr\n",
    "from tqdm import tqdm\n",
    "\n",
    "from dataclasses import dataclass\n",
    "\n",
    "from djitellopy import Tello\n",
    "\n",
    "from sklearn.metrics import classification_report\n",
    "import numpy as np\n"
   ]
  },
  {
   "cell_type": "markdown",
   "metadata": {},
   "source": [
    "# Collect Audio"
   ]
  },
  {
   "cell_type": "code",
   "execution_count": 73,
   "metadata": {},
   "outputs": [
    {
     "name": "stdout",
     "output_type": "stream",
     "text": [
      "Device 0: iPhone de Lucca Microphone\n",
      "Device 1: External Microphone\n",
      "Device 2: External Headphones\n",
      "Device 3: MacBook Pro Microphone\n",
      "Device 4: MacBook Pro Speakers\n"
     ]
    }
   ],
   "source": [
    "import pyaudio\n",
    "\n",
    "p = pyaudio.PyAudio()\n",
    "for i in range(p.get_device_count()):\n",
    "    info = p.get_device_info_by_index(i)\n",
    "    print(f\"Device {i}: {info['name']}\")\n",
    "p.terminate()"
   ]
  },
  {
   "cell_type": "code",
   "execution_count": 74,
   "metadata": {},
   "outputs": [],
   "source": [
    "import pyaudio\n",
    "import wave\n",
    "\n",
    "class RecordVoice:\n",
    "    def __init__(self, \n",
    "                 chunk=1024, \n",
    "                 format=pyaudio.paInt16, \n",
    "                 channels=1, \n",
    "                 rate=44100, \n",
    "                 record_seconds=2.5,\n",
    "                 output_filename=\"voice.wav\", \n",
    "                 device_index=1):\n",
    "        \n",
    "        self.chunk = chunk\n",
    "        self.format = format\n",
    "        self.channels = channels\n",
    "        self.rate = rate\n",
    "        self.record_seconds = record_seconds\n",
    "        self.output_filename = output_filename\n",
    "        self.device_index = device_index\n",
    "        self.frames = []\n",
    "        self.p = pyaudio.PyAudio()\n",
    "\n",
    "    def record(self):\n",
    "        stream = self.p.open(format=self.format,\n",
    "                             channels=self.channels,\n",
    "                             rate=self.rate,\n",
    "                             input=True,\n",
    "                             input_device_index=self.device_index,\n",
    "                             frames_per_buffer=self.chunk)\n",
    "\n",
    "        print(\"* recording\")\n",
    "\n",
    "        for i in range(0, int(self.rate / self.chunk * self.record_seconds)):\n",
    "            data = stream.read(self.chunk)\n",
    "            self.frames.append(data)\n",
    "\n",
    "        print(\"* done recording\")\n",
    "\n",
    "        stream.stop_stream()\n",
    "        stream.close()\n",
    "        self.p.terminate()\n",
    "\n",
    "        wf = wave.open(self.output_filename, 'wb')\n",
    "        wf.setnchannels(self.channels)\n",
    "        wf.setsampwidth(self.p.get_sample_size(self.format))\n",
    "        wf.setframerate(self.rate)\n",
    "        wf.writeframes(b''.join(self.frames))\n",
    "        wf.close()"
   ]
  },
  {
   "cell_type": "markdown",
   "metadata": {},
   "source": [
    "# STT"
   ]
  },
  {
   "cell_type": "code",
   "execution_count": 54,
   "metadata": {},
   "outputs": [],
   "source": [
    "# Download the model and processor\n",
    "\n",
    "#from transformers import Wav2Vec2ForCTC, Wav2Vec2Processor\n",
    "# import torch\n",
    "\n",
    "# model_name = \"facebook/wav2vec2-large-xlsr-53-portuguese\"\n",
    "\n",
    "# print(\"Starting to download the processor...\")\n",
    "# # Download and save the processor locally\n",
    "# processor = Wav2Vec2Processor.from_pretrained(model_name)\n",
    "# processor.save_pretrained(\"./wav2vec2-large-xlsr-53-portuguese\")\n",
    "# print(\"Processor downloaded and saved.\")\n",
    "\n",
    "# print(\"Starting to download the model...\")\n",
    "# # Download and save the model locally\n",
    "# model = Wav2Vec2ForCTC.from_pretrained(model_name)\n",
    "# model.save_pretrained(\"./wav2vec2-large-xlsr-53-portuguese\")\n",
    "# print(\"Model downloaded and saved.\")\n"
   ]
  },
  {
   "cell_type": "code",
   "execution_count": 75,
   "metadata": {},
   "outputs": [],
   "source": [
    "import soundfile as sf\n",
    "from transformers import Wav2Vec2ForCTC, Wav2Vec2Processor\n",
    "import torch\n",
    "import warnings\n",
    "import librosa\n",
    "\n",
    "class STT:\n",
    "    def __init__(self,processor,model):\n",
    "        # Suppress warnings\n",
    "        warnings.filterwarnings(\"ignore\", category=FutureWarning)\n",
    "        warnings.filterwarnings(\"ignore\", category=UserWarning)\n",
    "\n",
    "        # Load the model and processor from the local directory\n",
    "        self.processor = processor\n",
    "        self.model = model\n",
    "\n",
    "    def transcribe_audio(self, audio_path):\n",
    "        def read_audio(file_path, target_sr=16000):\n",
    "            audio_input, sr = librosa.load(file_path, sr=target_sr)\n",
    "            return audio_input\n",
    "\n",
    "        audio_input = read_audio(audio_path)\n",
    "\n",
    "        # Process the audio\n",
    "        input_values = self.processor(audio_input, return_tensors=\"pt\", sampling_rate=16000).input_values\n",
    "\n",
    "        # Perform inference\n",
    "        with torch.no_grad():\n",
    "            logits = self.model(input_values).logits\n",
    "\n",
    "        # Decode the predicted IDs to text\n",
    "        predicted_ids = logits.argmax(dim=-1)\n",
    "        transcription = self.processor.batch_decode(predicted_ids)\n",
    "\n",
    "        return transcription[0]\n"
   ]
  },
  {
   "cell_type": "code",
   "execution_count": 77,
   "metadata": {},
   "outputs": [
    {
     "name": "stdout",
     "output_type": "stream",
     "text": [
      "vai para baixo\n"
     ]
    }
   ],
   "source": [
    "processor = Wav2Vec2Processor.from_pretrained(\"./wav2vec2-large-xlsr-53-portuguese\")\n",
    "model = Wav2Vec2ForCTC.from_pretrained(\"./wav2vec2-large-xlsr-53-portuguese\")\n",
    "\n",
    "stt = STT(processor,model)\n",
    "text = stt.transcribe_audio('/Users/luccaemmanuel/Desktop/BIA/FunctionCalling/Dados/Dados_wav/DESCER/00000002-AUDIO-2024-06-15-20-17-42.wav')\n",
    "print(text)\n"
   ]
  },
  {
   "cell_type": "markdown",
   "metadata": {},
   "source": [
    "# LLM Processor "
   ]
  },
  {
   "cell_type": "code",
   "execution_count": 44,
   "metadata": {},
   "outputs": [],
   "source": [
    "class Command(BaseModel):\n",
    "    direction: str = Field(description=\"A direção que o drone deve ir.\", required=True)\n",
    "\n",
    "\n",
    "class LLMProcessor:\n",
    "    def __init__(self):\n",
    "        self.prompt = PromptTemplate.from_template(\n",
    "            \"\"\"system\n",
    "            You are a smart assistant. Take the following context and question below and return your answer in JSON.\n",
    "            user\n",
    "            QUESTION: {question} \\n\n",
    "            CONTEXT: {context} \\n\n",
    "            JSON:\n",
    "            \n",
    "            assistant\n",
    "            \"\"\"\n",
    "        )\n",
    "        \n",
    "        self.llm = OllamaFunctions(model=\"llama3\", format=\"json\", temperature=0)\n",
    "        self.structured_llm = self.llm.with_structured_output(Command)\n",
    "        self.chain = self.prompt | self.structured_llm\n",
    "    \n",
    "    def process(self, text):\n",
    "        self.context = f'''Uma pessoa está controlando um drone por voz. As possíveis direções do drone são: SUBIR, DESCER, FRENTE, TRAS, DIREITA, ESQUERDA. Segue a transcrição do áudio do comando da pessoa: '{text}' '''\n",
    "      \n",
    "        try:\n",
    "            response = self.chain.invoke({\n",
    "                \"question\": \"Qual direção a pessoa mandou o drone ir?\",\n",
    "                \"context\": self.context\n",
    "            })\n",
    "        except Exception as e:\n",
    "            response = {\"direction\": \"DESCONHECIDO\"}\n",
    "   \n",
    "        return response\n",
    "    "
   ]
  },
  {
   "cell_type": "markdown",
   "metadata": {},
   "source": [
    "# Drone "
   ]
  },
  {
   "cell_type": "code",
   "execution_count": 40,
   "metadata": {},
   "outputs": [],
   "source": [
    "class DroneController:\n",
    "    def __init__(self,drone):\n",
    "        self.drone = drone\n",
    "        \n",
    "    def control_drone(self, command):\n",
    "        if command == \"SUBIR\":\n",
    "            self.drone.takeoff()\n",
    "            self.drone.move_up(70)\n",
    "        elif command == \"DESCER\":\n",
    "            self.drone.move_down(70)\n",
    "            self.drone.land()\n",
    "        elif command == \"ESQUERDA\":\n",
    "            self.drone.move_left(70)\n",
    "        elif command == \"DIREITA\":\n",
    "            self.drone.move_right(70)\n",
    "        elif command == \"FRENTE\":\n",
    "            self.drone.move_forward(70)\n",
    "        elif command == \"TRAS\":\n",
    "            self.drone.move_back(70)\n",
    "        else:\n",
    "            print(\"Unknown command\")\n",
    "\n",
    "        self.drone.end()"
   ]
  },
  {
   "cell_type": "markdown",
   "metadata": {},
   "source": [
    "# Pipeline"
   ]
  },
  {
   "cell_type": "code",
   "execution_count": 7,
   "metadata": {},
   "outputs": [],
   "source": [
    "processor = Wav2Vec2Processor.from_pretrained(\"/Users/luccaemmanuel/Desktop/BIA/FunctionCalling/asr_processor\")\n",
    "model = Wav2Vec2ForCTC.from_pretrained(\"/Users/luccaemmanuel/Desktop/BIA/FunctionCalling/asr_model\")\n",
    "\n"
   ]
  },
  {
   "cell_type": "code",
   "execution_count": 141,
   "metadata": {},
   "outputs": [
    {
     "name": "stderr",
     "output_type": "stream",
     "text": [
      "[INFO] tello.py - 129 - Tello instance was initialized. Host: '192.168.10.1'. Port: '8889'.\n",
      "[INFO] tello.py - 438 - Send command: 'command'\n",
      "[ERROR] tello.py - 458 - 'utf-8' codec can't decode byte 0xcc in position 0: invalid continuation byte\n",
      "[INFO] tello.py - 438 - Send command: 'command'\n",
      "[INFO] tello.py - 462 - Response command: 'ok'\n"
     ]
    }
   ],
   "source": [
    "drone = Tello()\n",
    "drone.connect()"
   ]
  },
  {
   "cell_type": "code",
   "execution_count": 92,
   "metadata": {},
   "outputs": [
    {
     "name": "stderr",
     "output_type": "stream",
     "text": [
      "[INFO] tello.py - 438 - Send command: 'takeoff'\n",
      "[INFO] tello.py - 462 - Response takeoff: 'ok'\n"
     ]
    }
   ],
   "source": [
    "drone.takeoff()"
   ]
  },
  {
   "cell_type": "code",
   "execution_count": 93,
   "metadata": {},
   "outputs": [
    {
     "name": "stdout",
     "output_type": "stream",
     "text": [
      "* recording\n",
      "* done recording\n",
      "e covai para a frente\n"
     ]
    },
    {
     "name": "stderr",
     "output_type": "stream",
     "text": [
      "[INFO] tello.py - 438 - Send command: 'forward 40'\n"
     ]
    },
    {
     "name": "stdout",
     "output_type": "stream",
     "text": [
      "FRENTE\n"
     ]
    },
    {
     "name": "stderr",
     "output_type": "stream",
     "text": [
      "[INFO] tello.py - 462 - Response forward 40: 'ok'\n",
      "[INFO] tello.py - 438 - Send command: 'land'\n",
      "[INFO] tello.py - 462 - Response land: 'ok'\n"
     ]
    }
   ],
   "source": [
    "recorder = RecordVoice()\n",
    "stt = STT(processor,model)\n",
    "llm = LLMProcessor()\n",
    "controller = DroneController(drone)\n",
    "\n",
    "path = '/Users/luccaemmanuel/Desktop/BIA/FunctionCalling/voice.wav'\n",
    "recorder.record()\n",
    "stt_text = stt.transcribe_audio(path)\n",
    "llm_response = llm.process(stt_text)\n",
    "controller.control_drone(llm_response.direction)\n"
   ]
  },
  {
   "cell_type": "markdown",
   "metadata": {},
   "source": [
    "- TESTE"
   ]
  },
  {
   "cell_type": "code",
   "execution_count": 118,
   "metadata": {},
   "outputs": [],
   "source": [
    "stt = STT(processor,model)\n",
    "llm = LLMProcessor()\n",
    "controller = DroneController(drone)\n",
    "path = '/Users/luccaemmanuel/Desktop/BIA/FunctionCalling/voice.wav'"
   ]
  },
  {
   "cell_type": "code",
   "execution_count": 142,
   "metadata": {},
   "outputs": [
    {
     "name": "stderr",
     "output_type": "stream",
     "text": [
      "[INFO] tello.py - 438 - Send command: 'takeoff'\n",
      "[INFO] tello.py - 462 - Response takeoff: 'ok'\n"
     ]
    }
   ],
   "source": [
    "drone.takeoff()"
   ]
  },
  {
   "cell_type": "code",
   "execution_count": 143,
   "metadata": {},
   "outputs": [
    {
     "name": "stdout",
     "output_type": "stream",
     "text": [
      "* recording\n",
      "* done recording\n",
      "Texto:  vai para trás por favor\n"
     ]
    },
    {
     "name": "stderr",
     "output_type": "stream",
     "text": [
      "[INFO] tello.py - 438 - Send command: 'back 40'\n",
      "[INFO] tello.py - 462 - Response back 40: 'ok'\n"
     ]
    },
    {
     "name": "stdout",
     "output_type": "stream",
     "text": [
      "TRAS\n"
     ]
    }
   ],
   "source": [
    "RecordVoice().record()\n",
    "\n",
    "stt_text = stt.transcribe_audio(path)\n",
    "print('Texto: ',stt_text)\n",
    "llm_response = llm.process(stt_text)\n",
    "print(llm_response.direction)\n",
    "\n",
    "controller.control_drone(llm_response.direction)\n",
    "\n"
   ]
  },
  {
   "cell_type": "code",
   "execution_count": null,
   "metadata": {},
   "outputs": [],
   "source": []
  },
  {
   "cell_type": "markdown",
   "metadata": {},
   "source": [
    "# Metrics"
   ]
  },
  {
   "cell_type": "code",
   "execution_count": null,
   "metadata": {},
   "outputs": [],
   "source": [
    "processor = Wav2Vec2Processor.from_pretrained(\"/Users/luccaemmanuel/Desktop/BIA/FunctionCalling/asr_processor\")\n",
    "model = Wav2Vec2ForCTC.from_pretrained(\"/Users/luccaemmanuel/Desktop/BIA/FunctionCalling/asr_model\")"
   ]
  },
  {
   "cell_type": "code",
   "execution_count": 45,
   "metadata": {},
   "outputs": [],
   "source": [
    "stt = STT(processor,model)\n",
    "llm = LLMProcessor()"
   ]
  },
  {
   "cell_type": "code",
   "execution_count": 46,
   "metadata": {},
   "outputs": [
    {
     "name": "stderr",
     "output_type": "stream",
     "text": [
      "100%|██████████| 780/780 [00:00<00:00, 4084340.97it/s]\n",
      "100%|██████████| 845/845 [00:00<00:00, 3790574.20it/s]\n",
      "100%|██████████| 808/808 [00:00<00:00, 5050667.11it/s]\n",
      "100%|██████████| 809/809 [00:00<00:00, 5627183.97it/s]\n",
      "100%|██████████| 731/731 [00:00<00:00, 5369590.58it/s]\n",
      "100%|██████████| 822/822 [00:00<00:00, 5873454.66it/s]\n"
     ]
    }
   ],
   "source": [
    "import glob\n",
    "import time\n",
    "base_directory = '/Users/luccaemmanuel/Desktop/BIA/FunctionCalling/Dados/Dados_wav_augmented'\n",
    "files = []\n",
    "labels = []\n",
    "\n",
    "for label in os.listdir(base_directory):\n",
    "    folder_path = os.path.join(base_directory, label)\n",
    "    if os.path.isdir(folder_path):\n",
    "        for audio_file in tqdm(glob.glob(os.path.join(folder_path, '*.wav'))):\n",
    "            files.append(audio_file)\n",
    "            labels.append(label)\n"
   ]
  },
  {
   "cell_type": "code",
   "execution_count": 47,
   "metadata": {},
   "outputs": [],
   "source": [
    "import random \n",
    "\n",
    "combined = list(zip(files, labels))\n",
    "random.shuffle(combined)\n",
    "files, labels = zip(*combined)\n",
    "\n",
    "files = list(files)[:200]\n",
    "labels = list(labels)[:200]\n",
    "\n"
   ]
  },
  {
   "cell_type": "code",
   "execution_count": 69,
   "metadata": {},
   "outputs": [
    {
     "name": "stderr",
     "output_type": "stream",
     "text": [
      "100%|██████████| 200/200 [04:16<00:00,  1.28s/it]\n"
     ]
    }
   ],
   "source": [
    "predictions = []\n",
    "inference_times = []\n",
    "texts = []\n",
    "for file in tqdm(files):\n",
    "    #calculate time of inference\n",
    "    start = time.time()\n",
    "\n",
    "    stt_text = stt.transcribe_audio(file)\n",
    "    prediction = llm.process(stt_text)\n",
    "\n",
    "\n",
    "    end = time.time()\n",
    "    predictions.append(prediction)\n",
    "    texts.append(stt_text)\n",
    "    inference_times.append(end - start)"
   ]
  },
  {
   "cell_type": "code",
   "execution_count": 54,
   "metadata": {},
   "outputs": [],
   "source": [
    "predictions_cleaned = []\n",
    "for pred in predictions:\n",
    "  \n",
    "    if isinstance(pred,dict):\n",
    "        predictions_cleaned.append('DESCONHECIDO')\n",
    "    else:\n",
    "        predictions_cleaned.append(pred.direction)"
   ]
  },
  {
   "cell_type": "code",
   "execution_count": 60,
   "metadata": {},
   "outputs": [],
   "source": [
    "# Substitute anything other then \"SUBIR\", \"DESCER\", \"ESQUERDA\", \"DIREITA\", \"FRENTE\", \"TRAS\" with \"DESCONHECIDO\"\n",
    "\n",
    "predictions_cleaned = [p if p in [\"SUBIR\", \"DESCER\", \"ESQUERDA\", \"DIREITA\", \"FRENTE\", \"TRAS\"] else \"DESCONHECIDO\" for p in predictions_cleaned]"
   ]
  },
  {
   "cell_type": "code",
   "execution_count": 61,
   "metadata": {},
   "outputs": [
    {
     "data": {
      "text/plain": [
       "['SUBIR',\n",
       " 'DESCER',\n",
       " 'DIREITA',\n",
       " 'ESQUERDA',\n",
       " 'SUBIR',\n",
       " 'FRENTE',\n",
       " 'SUBIR',\n",
       " 'ESQUERDA',\n",
       " 'DIREITA',\n",
       " 'FRENTE',\n",
       " 'SUBIR',\n",
       " 'ESQUERDA',\n",
       " 'TRAS',\n",
       " 'ESQUERDA',\n",
       " 'DESCER',\n",
       " 'TRAS',\n",
       " 'TRAS',\n",
       " 'DESCONHECIDO',\n",
       " 'TRAS',\n",
       " 'DIREITA',\n",
       " 'DESCER',\n",
       " 'SUBIR',\n",
       " 'FRENTE',\n",
       " 'FRENTE',\n",
       " 'TRAS',\n",
       " 'TRAS',\n",
       " 'FRENTE',\n",
       " 'FRENTE',\n",
       " 'SUBIR',\n",
       " 'FRENTE',\n",
       " 'SUBIR',\n",
       " 'TRAS',\n",
       " 'SUBIR',\n",
       " 'SUBIR',\n",
       " 'FRENTE',\n",
       " 'DIREITA',\n",
       " 'DIREITA',\n",
       " 'SUBIR',\n",
       " 'DIREITA',\n",
       " 'TRAS',\n",
       " 'DESCER',\n",
       " 'DESCONHECIDO',\n",
       " 'SUBIR',\n",
       " 'DESCONHECIDO',\n",
       " 'ESQUERDA',\n",
       " 'FRENTE',\n",
       " 'SUBIR',\n",
       " 'FRENTE',\n",
       " 'FRENTE',\n",
       " 'DESCONHECIDO',\n",
       " 'DESCER',\n",
       " 'FRENTE',\n",
       " 'TRAS',\n",
       " 'TRAS',\n",
       " 'ESQUERDA',\n",
       " 'FRENTE',\n",
       " 'TRAS',\n",
       " 'DESCER',\n",
       " 'FRENTE',\n",
       " 'ESQUERDA',\n",
       " 'FRENTE',\n",
       " 'TRAS',\n",
       " 'DIREITA',\n",
       " 'DESCER',\n",
       " 'DIREITA',\n",
       " 'ESQUERDA',\n",
       " 'ESQUERDA',\n",
       " 'FRENTE',\n",
       " 'ESQUERDA',\n",
       " 'SUBIR',\n",
       " 'TRAS',\n",
       " 'DESCONHECIDO',\n",
       " 'DESCER',\n",
       " 'TRAS',\n",
       " 'FRENTE',\n",
       " 'FRENTE',\n",
       " 'DESCER',\n",
       " 'TRAS',\n",
       " 'DIREITA',\n",
       " 'SUBIR',\n",
       " 'DIREITA',\n",
       " 'SUBIR',\n",
       " 'TRAS',\n",
       " 'TRAS',\n",
       " 'FRENTE',\n",
       " 'ESQUERDA',\n",
       " 'SUBIR',\n",
       " 'DESCONHECIDO',\n",
       " 'DESCER',\n",
       " 'FRENTE',\n",
       " 'SUBIR',\n",
       " 'DESCER',\n",
       " 'DESCONHECIDO',\n",
       " 'FRENTE',\n",
       " 'DIREITA',\n",
       " 'DIREITA',\n",
       " 'FRENTE',\n",
       " 'ESQUERDA',\n",
       " 'DIREITA',\n",
       " 'DESCER',\n",
       " 'DESCER',\n",
       " 'TRAS',\n",
       " 'DIREITA',\n",
       " 'SUBIR',\n",
       " 'TRAS',\n",
       " 'DIREITA',\n",
       " 'FRENTE',\n",
       " 'ESQUERDA',\n",
       " 'SUBIR',\n",
       " 'ESQUERDA',\n",
       " 'DESCONHECIDO',\n",
       " 'SUBIR',\n",
       " 'FRENTE',\n",
       " 'TRAS',\n",
       " 'DIREITA',\n",
       " 'FRENTE',\n",
       " 'DESCER',\n",
       " 'SUBIR',\n",
       " 'ESQUERDA',\n",
       " 'DIREITA',\n",
       " 'DESCONHECIDO',\n",
       " 'DESCER',\n",
       " 'FRENTE',\n",
       " 'DESCER',\n",
       " 'TRAS',\n",
       " 'FRENTE',\n",
       " 'FRENTE',\n",
       " 'DESCER',\n",
       " 'DIREITA',\n",
       " 'FRENTE',\n",
       " 'FRENTE',\n",
       " 'DESCER',\n",
       " 'FRENTE',\n",
       " 'DIREITA',\n",
       " 'ESQUERDA',\n",
       " 'FRENTE',\n",
       " 'ESQUERDA',\n",
       " 'ESQUERDA',\n",
       " 'FRENTE',\n",
       " 'DIREITA',\n",
       " 'TRAS',\n",
       " 'TRAS',\n",
       " 'ESQUERDA',\n",
       " 'ESQUERDA',\n",
       " 'DESCER',\n",
       " 'ESQUERDA',\n",
       " 'DIREITA',\n",
       " 'FRENTE',\n",
       " 'TRAS',\n",
       " 'ESQUERDA',\n",
       " 'DESCONHECIDO',\n",
       " 'FRENTE',\n",
       " 'SUBIR',\n",
       " 'DESCONHECIDO',\n",
       " 'DESCONHECIDO',\n",
       " 'DESCER',\n",
       " 'TRAS',\n",
       " 'FRENTE',\n",
       " 'FRENTE',\n",
       " 'DESCONHECIDO',\n",
       " 'FRENTE',\n",
       " 'FRENTE',\n",
       " 'TRAS',\n",
       " 'FRENTE',\n",
       " 'DESCER',\n",
       " 'DESCER',\n",
       " 'SUBIR',\n",
       " 'DIREITA',\n",
       " 'SUBIR',\n",
       " 'DESCER',\n",
       " 'TRAS',\n",
       " 'DIREITA',\n",
       " 'FRENTE',\n",
       " 'ESQUERDA',\n",
       " 'FRENTE',\n",
       " 'FRENTE',\n",
       " 'SUBIR',\n",
       " 'DIREITA',\n",
       " 'TRAS',\n",
       " 'SUBIR',\n",
       " 'FRENTE',\n",
       " 'DESCER',\n",
       " 'FRENTE',\n",
       " 'DESCONHECIDO',\n",
       " 'DESCONHECIDO',\n",
       " 'FRENTE',\n",
       " 'FRENTE',\n",
       " 'FRENTE',\n",
       " 'DESCER',\n",
       " 'FRENTE',\n",
       " 'TRAS',\n",
       " 'TRAS',\n",
       " 'ESQUERDA',\n",
       " 'TRAS',\n",
       " 'SUBIR',\n",
       " 'DIREITA',\n",
       " 'DIREITA',\n",
       " 'FRENTE',\n",
       " 'TRAS',\n",
       " 'DIREITA']"
      ]
     },
     "execution_count": 61,
     "metadata": {},
     "output_type": "execute_result"
    }
   ],
   "source": [
    "predictions_cleaned"
   ]
  },
  {
   "cell_type": "code",
   "execution_count": 68,
   "metadata": {},
   "outputs": [
    {
     "name": "stdout",
     "output_type": "stream",
     "text": [
      "Classification Report:\n",
      "              precision    recall  f1-score   support\n",
      "\n",
      "      DESCER       1.00      0.86      0.93        29\n",
      "DESCONHECIDO       0.00      0.00      0.00         0\n",
      "     DIREITA       1.00      0.93      0.96        29\n",
      "    ESQUERDA       0.96      0.77      0.85        30\n",
      "      FRENTE       0.60      0.91      0.72        33\n",
      "       SUBIR       1.00      0.64      0.78        42\n",
      "        TRAS       0.91      0.78      0.84        37\n",
      "\n",
      "    accuracy                           0.81       200\n",
      "   macro avg       0.78      0.70      0.73       200\n",
      "weighted avg       0.91      0.81      0.84       200\n",
      "\n",
      "Mean inference time:  1.2337602221965789\n",
      "Std inference time:  0.0923626631249002\n",
      "Unknown commands: 7.50%\n"
     ]
    }
   ],
   "source": [
    "report = classification_report(labels, predictions_cleaned)\n",
    "print(\"Classification Report:\")\n",
    "print(report)\n",
    "\n",
    "print('Mean inference time: ', np.mean(inference_times))\n",
    "print('Std inference time: ', np.std(inference_times))\n",
    "\n",
    "# Count how many 'desconhidos' there are\n",
    "desconhecidos_count = predictions_cleaned.count('DESCONHECIDO')\n",
    "print('Unknown commands: {:.2f}%'.format(100*desconhecidos_count/len(predictions_cleaned)))\n"
   ]
  },
  {
   "cell_type": "code",
   "execution_count": 24,
   "metadata": {},
   "outputs": [
    {
     "ename": "AttributeError",
     "evalue": "'dict' object has no attribute 'direction'",
     "output_type": "error",
     "traceback": [
      "\u001b[0;31m---------------------------------------------------------------------------\u001b[0m",
      "\u001b[0;31mAttributeError\u001b[0m                            Traceback (most recent call last)",
      "Cell \u001b[0;32mIn[24], line 1\u001b[0m\n\u001b[0;32m----> 1\u001b[0m predictions_t \u001b[38;5;241m=\u001b[39m [\u001b[43mp\u001b[49m\u001b[38;5;241;43m.\u001b[39;49m\u001b[43mdirection\u001b[49m \u001b[38;5;28;01mfor\u001b[39;00m p \u001b[38;5;129;01min\u001b[39;00m predictions]\n\u001b[1;32m      2\u001b[0m predictions_t\n",
      "\u001b[0;31mAttributeError\u001b[0m: 'dict' object has no attribute 'direction'"
     ]
    }
   ],
   "source": [
    "predictions_t = [p.direction for p in predictions]\n",
    "predictions_t\n"
   ]
  },
  {
   "cell_type": "code",
   "execution_count": 32,
   "metadata": {},
   "outputs": [
    {
     "name": "stdout",
     "output_type": "stream",
     "text": [
      "TRAS\n"
     ]
    },
    {
     "ename": "AttributeError",
     "evalue": "'dict' object has no attribute 'direction'",
     "output_type": "error",
     "traceback": [
      "\u001b[0;31m---------------------------------------------------------------------------\u001b[0m",
      "\u001b[0;31mAttributeError\u001b[0m                            Traceback (most recent call last)",
      "Cell \u001b[0;32mIn[32], line 4\u001b[0m\n\u001b[1;32m      1\u001b[0m predictions[\u001b[38;5;241m0\u001b[39m]\u001b[38;5;241m.\u001b[39mdirection\n\u001b[1;32m      3\u001b[0m \u001b[38;5;28;01mfor\u001b[39;00m i \u001b[38;5;129;01min\u001b[39;00m \u001b[38;5;28mrange\u001b[39m(\u001b[38;5;28mlen\u001b[39m(predictions)):\n\u001b[0;32m----> 4\u001b[0m     \u001b[38;5;28mprint\u001b[39m(\u001b[43mpredictions\u001b[49m\u001b[43m[\u001b[49m\u001b[43mi\u001b[49m\u001b[43m]\u001b[49m\u001b[38;5;241;43m.\u001b[39;49m\u001b[43mdirection\u001b[49m)\n",
      "\u001b[0;31mAttributeError\u001b[0m: 'dict' object has no attribute 'direction'"
     ]
    }
   ],
   "source": [
    "predictions[0].direction\n",
    "\n",
    "for i in range(len(predictions)):\n",
    "    print(predictions[i].direction)\n",
    "  "
   ]
  },
  {
   "cell_type": "code",
   "execution_count": 38,
   "metadata": {},
   "outputs": [
    {
     "data": {
      "text/plain": [
       "[Command(direction='TRAS'),\n",
       " {'direction': 'DESCONHECIDO'},\n",
       " Command(direction='TRAS'),\n",
       " Command(direction='DIREITA'),\n",
       " Command(direction='FRENTE'),\n",
       " Command(direction='TRAS'),\n",
       " Command(direction='DESCER'),\n",
       " Command(direction='ESQUERDA'),\n",
       " Command(direction='TRAS'),\n",
       " Command(direction='FRENTE'),\n",
       " {'direction': 'DESCONHECIDO'},\n",
       " Command(direction='TRAS'),\n",
       " Command(direction='DIREITA'),\n",
       " Command(direction='FRENTE'),\n",
       " {'direction': 'DESCONHECIDO'},\n",
       " Command(direction='FRENTE'),\n",
       " Command(direction='ESQUERDA'),\n",
       " Command(direction='TRAS'),\n",
       " Command(direction='ESQUERDA'),\n",
       " Command(direction='TRAS'),\n",
       " Command(direction='DIREITA'),\n",
       " Command(direction='ESQUERDA'),\n",
       " Command(direction='FRENTE'),\n",
       " Command(direction='FRENTE'),\n",
       " Command(direction='DIREITA'),\n",
       " Command(direction='ESQUERDA'),\n",
       " Command(direction='SUBIR'),\n",
       " Command(direction='SUBIR'),\n",
       " Command(direction='TRAS'),\n",
       " Command(direction='FRENTE'),\n",
       " Command(direction='FRENTE'),\n",
       " Command(direction='TRAS'),\n",
       " Command(direction='FRENTE'),\n",
       " {'direction': 'DESCONHECIDO'},\n",
       " Command(direction='SUBIR'),\n",
       " Command(direction='FRENTE'),\n",
       " Command(direction='TRAS'),\n",
       " Command(direction='SUBIR'),\n",
       " Command(direction='SUBIR'),\n",
       " Command(direction='DESCER'),\n",
       " Command(direction='DIREITA'),\n",
       " Command(direction='DIREITA'),\n",
       " Command(direction='SUBIR'),\n",
       " Command(direction='FRENTE'),\n",
       " Command(direction='SUBIR'),\n",
       " Command(direction='ESQUERDA'),\n",
       " Command(direction='ESQUERDA'),\n",
       " Command(direction='TRAS'),\n",
       " Command(direction='SUBIR'),\n",
       " {'direction': 'DESCONHECIDO'},\n",
       " Command(direction='FRENTE'),\n",
       " Command(direction='DIREITA'),\n",
       " {'direction': 'DESCONHECIDO'},\n",
       " Command(direction='FRENTE'),\n",
       " Command(direction='SUBIR'),\n",
       " Command(direction='TRAS'),\n",
       " Command(direction='ESQUERDA'),\n",
       " {'direction': 'DESCONHECIDO'},\n",
       " Command(direction='FRENTE'),\n",
       " Command(direction='TRAS'),\n",
       " Command(direction='FRENTE'),\n",
       " Command(direction='TRAS'),\n",
       " Command(direction='FRENTE'),\n",
       " Command(direction='SUBIR'),\n",
       " Command(direction='FRENTE'),\n",
       " Command(direction='ESQUERDA'),\n",
       " Command(direction='FRENTE'),\n",
       " Command(direction='SUBIR'),\n",
       " Command(direction='FRENTE'),\n",
       " Command(direction='FRENTE'),\n",
       " Command(direction='FRENTE'),\n",
       " Command(direction='DESCER'),\n",
       " Command(direction='DIREITA'),\n",
       " Command(direction='DIREITA'),\n",
       " {'direction': 'DESCONHECIDO'},\n",
       " Command(direction='TRAS'),\n",
       " Command(direction='DIREITA'),\n",
       " Command(direction='ESQUERDA'),\n",
       " Command(direction='SUBIR'),\n",
       " Command(direction='TRAS'),\n",
       " Command(direction='DESCER'),\n",
       " Command(direction='FRENTE'),\n",
       " Command(direction='SUBIR'),\n",
       " Command(direction='FRENTE'),\n",
       " Command(direction='FRENTE'),\n",
       " {'direction': 'DESCONHECIDO'},\n",
       " Command(direction='TRAS'),\n",
       " {'direction': 'DESCONHECIDO'},\n",
       " Command(direction='DIREITA'),\n",
       " {'direction': 'DESCONHECIDO'},\n",
       " Command(direction='SUBIR'),\n",
       " Command(direction='FRENTE'),\n",
       " Command(direction='TRAS'),\n",
       " Command(direction='TRÁS'),\n",
       " Command(direction='ESQUERDA'),\n",
       " Command(direction='ESQUERDA'),\n",
       " Command(direction='FRENTE'),\n",
       " Command(direction='ESQUERDA'),\n",
       " Command(direction='ESQUERDA'),\n",
       " Command(direction='DIREITA'),\n",
       " Command(direction='DESCER'),\n",
       " Command(direction='ESQUERDA'),\n",
       " {'direction': 'DESCONHECIDO'},\n",
       " {'direction': 'DESCONHECIDO'},\n",
       " Command(direction='ESQUERDA'),\n",
       " Command(direction='N/A'),\n",
       " Command(direction='FRENTE'),\n",
       " Command(direction='ESQUERDA'),\n",
       " Command(direction='ESQUERDA'),\n",
       " Command(direction='SUBIR'),\n",
       " Command(direction='SUBIR'),\n",
       " Command(direction='FRENTE'),\n",
       " Command(direction='FRENTE'),\n",
       " Command(direction='DESCER'),\n",
       " Command(direction='DESCER'),\n",
       " Command(direction='DESCER'),\n",
       " Command(direction='DIREITA'),\n",
       " Command(direction='FRENTE'),\n",
       " Command(direction='DESCER'),\n",
       " Command(direction='DESCER'),\n",
       " Command(direction='TRAS'),\n",
       " Command(direction='DIREITA'),\n",
       " Command(direction='TRAS'),\n",
       " Command(direction='FRENTE'),\n",
       " Command(direction='ESQUERDA'),\n",
       " Command(direction='FRENTE'),\n",
       " Command(direction='ESQUERDA'),\n",
       " Command(direction='TRAS'),\n",
       " Command(direction='FRENTE'),\n",
       " Command(direction='DIREITA'),\n",
       " Command(direction='ESQUERDA'),\n",
       " Command(direction='TRAS'),\n",
       " Command(direction='FRENTE'),\n",
       " Command(direction='DIREITA'),\n",
       " Command(direction='ESQUERDA'),\n",
       " Command(direction='DIREITA'),\n",
       " Command(direction='FRENTE'),\n",
       " Command(direction='SUBIR'),\n",
       " Command(direction='FRENTE'),\n",
       " Command(direction='TRAS'),\n",
       " Command(direction='DIREITA'),\n",
       " Command(direction='SUBIR'),\n",
       " Command(direction='ESQUERDA'),\n",
       " Command(direction='ESQUERDA'),\n",
       " Command(direction='FRENTE'),\n",
       " Command(direction='DESCER'),\n",
       " Command(direction='DIREITA'),\n",
       " Command(direction='DESCER'),\n",
       " Command(direction='ESQUERDA'),\n",
       " Command(direction='DIREITA'),\n",
       " {'direction': 'DESCONHECIDO'},\n",
       " Command(direction='TRAS'),\n",
       " Command(direction='SUBIR'),\n",
       " {'direction': 'DESCONHECIDO'},\n",
       " Command(direction='FRENTE'),\n",
       " Command(direction='FRENTE'),\n",
       " {'direction': 'DESCONHECIDO'},\n",
       " Command(direction='DIREITA'),\n",
       " {'direction': 'DESCONHECIDO'},\n",
       " Command(direction='DIREITA'),\n",
       " Command(direction='FRENTE'),\n",
       " Command(direction='FRENTE'),\n",
       " Command(direction='DIREITA'),\n",
       " Command(direction='SUBIR'),\n",
       " Command(direction='DIREITA'),\n",
       " Command(direction='TRAS'),\n",
       " Command(direction='FRENTE'),\n",
       " Command(direction='TRAS'),\n",
       " Command(direction='SUBIR'),\n",
       " Command(direction='FRENTE'),\n",
       " Command(direction='DIREITA'),\n",
       " Command(direction='FRENTE'),\n",
       " Command(direction='ESQUERDA'),\n",
       " Command(direction='DIREITA'),\n",
       " Command(direction='ESQUERDA'),\n",
       " Command(direction='ESQUERDA'),\n",
       " Command(direction='FRENTE'),\n",
       " Command(direction='FRENTE'),\n",
       " Command(direction='ESQUERDA'),\n",
       " Command(direction='DIREITA'),\n",
       " Command(direction='SUBIR'),\n",
       " Command(direction='SUBIR'),\n",
       " Command(direction='FRENTE'),\n",
       " Command(direction='SUBIR'),\n",
       " Command(direction='TRAS'),\n",
       " Command(direction='DESCER'),\n",
       " Command(direction='TRAS'),\n",
       " Command(direction='TRAS'),\n",
       " Command(direction='DESCER'),\n",
       " Command(direction='ESQUERDA'),\n",
       " Command(direction='SUBIR'),\n",
       " Command(direction='TRAS'),\n",
       " Command(direction='TRAS'),\n",
       " Command(direction='TRAS'),\n",
       " Command(direction='FRENTE'),\n",
       " Command(direction='TRAS'),\n",
       " Command(direction='ESQUERDA'),\n",
       " Command(direction='DIREITA'),\n",
       " {'direction': 'DESCONHECIDO'},\n",
       " {'direction': 'DESCONHECIDO'}]"
      ]
     },
     "execution_count": 38,
     "metadata": {},
     "output_type": "execute_result"
    }
   ],
   "source": [
    "predictions\n"
   ]
  },
  {
   "cell_type": "code",
   "execution_count": null,
   "metadata": {},
   "outputs": [],
   "source": []
  }
 ],
 "metadata": {
  "kernelspec": {
   "display_name": "f_call_venv",
   "language": "python",
   "name": "python3"
  },
  "language_info": {
   "codemirror_mode": {
    "name": "ipython",
    "version": 3
   },
   "file_extension": ".py",
   "mimetype": "text/x-python",
   "name": "python",
   "nbconvert_exporter": "python",
   "pygments_lexer": "ipython3",
   "version": "3.12.3"
  }
 },
 "nbformat": 4,
 "nbformat_minor": 2
}
