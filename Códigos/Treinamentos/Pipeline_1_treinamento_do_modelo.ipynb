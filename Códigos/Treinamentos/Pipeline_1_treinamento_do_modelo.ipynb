{
  "nbformat": 4,
  "nbformat_minor": 0,
  "metadata": {
    "colab": {
      "provenance": [],
      "gpuType": "T4",
      "toc_visible": true
    },
    "kernelspec": {
      "name": "python3",
      "display_name": "Python 3"
    },
    "language_info": {
      "name": "python"
    },
    "accelerator": "GPU",
    "widgets": {
      "application/vnd.jupyter.widget-state+json": {
        "06aa8ea6b7f7407481fefe4d47361654": {
          "model_module": "@jupyter-widgets/controls",
          "model_name": "HBoxModel",
          "model_module_version": "1.5.0",
          "state": {
            "_dom_classes": [],
            "_model_module": "@jupyter-widgets/controls",
            "_model_module_version": "1.5.0",
            "_model_name": "HBoxModel",
            "_view_count": null,
            "_view_module": "@jupyter-widgets/controls",
            "_view_module_version": "1.5.0",
            "_view_name": "HBoxView",
            "box_style": "",
            "children": [
              "IPY_MODEL_b0425b90e2264fad834bbcc72bf0e47c",
              "IPY_MODEL_274bfb8400b748a0903f6ff3127385db",
              "IPY_MODEL_83e94c8d0e684e1482d0220addbc797b"
            ],
            "layout": "IPY_MODEL_a3040ac20c5c4ef484b8e881bb15767b"
          }
        },
        "b0425b90e2264fad834bbcc72bf0e47c": {
          "model_module": "@jupyter-widgets/controls",
          "model_name": "HTMLModel",
          "model_module_version": "1.5.0",
          "state": {
            "_dom_classes": [],
            "_model_module": "@jupyter-widgets/controls",
            "_model_module_version": "1.5.0",
            "_model_name": "HTMLModel",
            "_view_count": null,
            "_view_module": "@jupyter-widgets/controls",
            "_view_module_version": "1.5.0",
            "_view_name": "HTMLView",
            "description": "",
            "description_tooltip": null,
            "layout": "IPY_MODEL_ce2419d7cb344d439482b71edb98f569",
            "placeholder": "​",
            "style": "IPY_MODEL_b161f1e6ea6b45b3a534b8b86ea7f8e1",
            "value": "preprocessor_config.json: 100%"
          }
        },
        "274bfb8400b748a0903f6ff3127385db": {
          "model_module": "@jupyter-widgets/controls",
          "model_name": "FloatProgressModel",
          "model_module_version": "1.5.0",
          "state": {
            "_dom_classes": [],
            "_model_module": "@jupyter-widgets/controls",
            "_model_module_version": "1.5.0",
            "_model_name": "FloatProgressModel",
            "_view_count": null,
            "_view_module": "@jupyter-widgets/controls",
            "_view_module_version": "1.5.0",
            "_view_name": "ProgressView",
            "bar_style": "success",
            "description": "",
            "description_tooltip": null,
            "layout": "IPY_MODEL_3bb452dc135b4fc490b859626b89d163",
            "max": 158,
            "min": 0,
            "orientation": "horizontal",
            "style": "IPY_MODEL_dade58b58641450c87ab40c3a14a3ff9",
            "value": 158
          }
        },
        "83e94c8d0e684e1482d0220addbc797b": {
          "model_module": "@jupyter-widgets/controls",
          "model_name": "HTMLModel",
          "model_module_version": "1.5.0",
          "state": {
            "_dom_classes": [],
            "_model_module": "@jupyter-widgets/controls",
            "_model_module_version": "1.5.0",
            "_model_name": "HTMLModel",
            "_view_count": null,
            "_view_module": "@jupyter-widgets/controls",
            "_view_module_version": "1.5.0",
            "_view_name": "HTMLView",
            "description": "",
            "description_tooltip": null,
            "layout": "IPY_MODEL_3d31df650787423e9bd703233680b988",
            "placeholder": "​",
            "style": "IPY_MODEL_7320cc84377b47c5833f333ac5040957",
            "value": " 158/158 [00:00&lt;00:00, 9.25kB/s]"
          }
        },
        "a3040ac20c5c4ef484b8e881bb15767b": {
          "model_module": "@jupyter-widgets/base",
          "model_name": "LayoutModel",
          "model_module_version": "1.2.0",
          "state": {
            "_model_module": "@jupyter-widgets/base",
            "_model_module_version": "1.2.0",
            "_model_name": "LayoutModel",
            "_view_count": null,
            "_view_module": "@jupyter-widgets/base",
            "_view_module_version": "1.2.0",
            "_view_name": "LayoutView",
            "align_content": null,
            "align_items": null,
            "align_self": null,
            "border": null,
            "bottom": null,
            "display": null,
            "flex": null,
            "flex_flow": null,
            "grid_area": null,
            "grid_auto_columns": null,
            "grid_auto_flow": null,
            "grid_auto_rows": null,
            "grid_column": null,
            "grid_gap": null,
            "grid_row": null,
            "grid_template_areas": null,
            "grid_template_columns": null,
            "grid_template_rows": null,
            "height": null,
            "justify_content": null,
            "justify_items": null,
            "left": null,
            "margin": null,
            "max_height": null,
            "max_width": null,
            "min_height": null,
            "min_width": null,
            "object_fit": null,
            "object_position": null,
            "order": null,
            "overflow": null,
            "overflow_x": null,
            "overflow_y": null,
            "padding": null,
            "right": null,
            "top": null,
            "visibility": null,
            "width": null
          }
        },
        "ce2419d7cb344d439482b71edb98f569": {
          "model_module": "@jupyter-widgets/base",
          "model_name": "LayoutModel",
          "model_module_version": "1.2.0",
          "state": {
            "_model_module": "@jupyter-widgets/base",
            "_model_module_version": "1.2.0",
            "_model_name": "LayoutModel",
            "_view_count": null,
            "_view_module": "@jupyter-widgets/base",
            "_view_module_version": "1.2.0",
            "_view_name": "LayoutView",
            "align_content": null,
            "align_items": null,
            "align_self": null,
            "border": null,
            "bottom": null,
            "display": null,
            "flex": null,
            "flex_flow": null,
            "grid_area": null,
            "grid_auto_columns": null,
            "grid_auto_flow": null,
            "grid_auto_rows": null,
            "grid_column": null,
            "grid_gap": null,
            "grid_row": null,
            "grid_template_areas": null,
            "grid_template_columns": null,
            "grid_template_rows": null,
            "height": null,
            "justify_content": null,
            "justify_items": null,
            "left": null,
            "margin": null,
            "max_height": null,
            "max_width": null,
            "min_height": null,
            "min_width": null,
            "object_fit": null,
            "object_position": null,
            "order": null,
            "overflow": null,
            "overflow_x": null,
            "overflow_y": null,
            "padding": null,
            "right": null,
            "top": null,
            "visibility": null,
            "width": null
          }
        },
        "b161f1e6ea6b45b3a534b8b86ea7f8e1": {
          "model_module": "@jupyter-widgets/controls",
          "model_name": "DescriptionStyleModel",
          "model_module_version": "1.5.0",
          "state": {
            "_model_module": "@jupyter-widgets/controls",
            "_model_module_version": "1.5.0",
            "_model_name": "DescriptionStyleModel",
            "_view_count": null,
            "_view_module": "@jupyter-widgets/base",
            "_view_module_version": "1.2.0",
            "_view_name": "StyleView",
            "description_width": ""
          }
        },
        "3bb452dc135b4fc490b859626b89d163": {
          "model_module": "@jupyter-widgets/base",
          "model_name": "LayoutModel",
          "model_module_version": "1.2.0",
          "state": {
            "_model_module": "@jupyter-widgets/base",
            "_model_module_version": "1.2.0",
            "_model_name": "LayoutModel",
            "_view_count": null,
            "_view_module": "@jupyter-widgets/base",
            "_view_module_version": "1.2.0",
            "_view_name": "LayoutView",
            "align_content": null,
            "align_items": null,
            "align_self": null,
            "border": null,
            "bottom": null,
            "display": null,
            "flex": null,
            "flex_flow": null,
            "grid_area": null,
            "grid_auto_columns": null,
            "grid_auto_flow": null,
            "grid_auto_rows": null,
            "grid_column": null,
            "grid_gap": null,
            "grid_row": null,
            "grid_template_areas": null,
            "grid_template_columns": null,
            "grid_template_rows": null,
            "height": null,
            "justify_content": null,
            "justify_items": null,
            "left": null,
            "margin": null,
            "max_height": null,
            "max_width": null,
            "min_height": null,
            "min_width": null,
            "object_fit": null,
            "object_position": null,
            "order": null,
            "overflow": null,
            "overflow_x": null,
            "overflow_y": null,
            "padding": null,
            "right": null,
            "top": null,
            "visibility": null,
            "width": null
          }
        },
        "dade58b58641450c87ab40c3a14a3ff9": {
          "model_module": "@jupyter-widgets/controls",
          "model_name": "ProgressStyleModel",
          "model_module_version": "1.5.0",
          "state": {
            "_model_module": "@jupyter-widgets/controls",
            "_model_module_version": "1.5.0",
            "_model_name": "ProgressStyleModel",
            "_view_count": null,
            "_view_module": "@jupyter-widgets/base",
            "_view_module_version": "1.2.0",
            "_view_name": "StyleView",
            "bar_color": null,
            "description_width": ""
          }
        },
        "3d31df650787423e9bd703233680b988": {
          "model_module": "@jupyter-widgets/base",
          "model_name": "LayoutModel",
          "model_module_version": "1.2.0",
          "state": {
            "_model_module": "@jupyter-widgets/base",
            "_model_module_version": "1.2.0",
            "_model_name": "LayoutModel",
            "_view_count": null,
            "_view_module": "@jupyter-widgets/base",
            "_view_module_version": "1.2.0",
            "_view_name": "LayoutView",
            "align_content": null,
            "align_items": null,
            "align_self": null,
            "border": null,
            "bottom": null,
            "display": null,
            "flex": null,
            "flex_flow": null,
            "grid_area": null,
            "grid_auto_columns": null,
            "grid_auto_flow": null,
            "grid_auto_rows": null,
            "grid_column": null,
            "grid_gap": null,
            "grid_row": null,
            "grid_template_areas": null,
            "grid_template_columns": null,
            "grid_template_rows": null,
            "height": null,
            "justify_content": null,
            "justify_items": null,
            "left": null,
            "margin": null,
            "max_height": null,
            "max_width": null,
            "min_height": null,
            "min_width": null,
            "object_fit": null,
            "object_position": null,
            "order": null,
            "overflow": null,
            "overflow_x": null,
            "overflow_y": null,
            "padding": null,
            "right": null,
            "top": null,
            "visibility": null,
            "width": null
          }
        },
        "7320cc84377b47c5833f333ac5040957": {
          "model_module": "@jupyter-widgets/controls",
          "model_name": "DescriptionStyleModel",
          "model_module_version": "1.5.0",
          "state": {
            "_model_module": "@jupyter-widgets/controls",
            "_model_module_version": "1.5.0",
            "_model_name": "DescriptionStyleModel",
            "_view_count": null,
            "_view_module": "@jupyter-widgets/base",
            "_view_module_version": "1.2.0",
            "_view_name": "StyleView",
            "description_width": ""
          }
        },
        "a1b206db57b64f6f90719ef449dd45ad": {
          "model_module": "@jupyter-widgets/controls",
          "model_name": "HBoxModel",
          "model_module_version": "1.5.0",
          "state": {
            "_dom_classes": [],
            "_model_module": "@jupyter-widgets/controls",
            "_model_module_version": "1.5.0",
            "_model_name": "HBoxModel",
            "_view_count": null,
            "_view_module": "@jupyter-widgets/controls",
            "_view_module_version": "1.5.0",
            "_view_name": "HBoxView",
            "box_style": "",
            "children": [
              "IPY_MODEL_4074b128bdda46739d44faf45cea3e2d",
              "IPY_MODEL_238f2828a4024591aaf8b1f5b0d65a9f",
              "IPY_MODEL_23540bb6dd2f4a3992c9d962c8696c2d"
            ],
            "layout": "IPY_MODEL_2309d0018db54061b1991836c6f4419a"
          }
        },
        "4074b128bdda46739d44faf45cea3e2d": {
          "model_module": "@jupyter-widgets/controls",
          "model_name": "HTMLModel",
          "model_module_version": "1.5.0",
          "state": {
            "_dom_classes": [],
            "_model_module": "@jupyter-widgets/controls",
            "_model_module_version": "1.5.0",
            "_model_name": "HTMLModel",
            "_view_count": null,
            "_view_module": "@jupyter-widgets/controls",
            "_view_module_version": "1.5.0",
            "_view_name": "HTMLView",
            "description": "",
            "description_tooltip": null,
            "layout": "IPY_MODEL_5b47f6345a8c46b095bbfc774c2163cd",
            "placeholder": "​",
            "style": "IPY_MODEL_00070f93d7144e8495820f083993bd7d",
            "value": "tokenizer_config.json: 100%"
          }
        },
        "238f2828a4024591aaf8b1f5b0d65a9f": {
          "model_module": "@jupyter-widgets/controls",
          "model_name": "FloatProgressModel",
          "model_module_version": "1.5.0",
          "state": {
            "_dom_classes": [],
            "_model_module": "@jupyter-widgets/controls",
            "_model_module_version": "1.5.0",
            "_model_name": "FloatProgressModel",
            "_view_count": null,
            "_view_module": "@jupyter-widgets/controls",
            "_view_module_version": "1.5.0",
            "_view_name": "ProgressView",
            "bar_style": "success",
            "description": "",
            "description_tooltip": null,
            "layout": "IPY_MODEL_5d79cff1fb0c4b9080468e7c32b5fe9e",
            "max": 386,
            "min": 0,
            "orientation": "horizontal",
            "style": "IPY_MODEL_b6b7bb8c5568409caa5a4ab8431108f8",
            "value": 386
          }
        },
        "23540bb6dd2f4a3992c9d962c8696c2d": {
          "model_module": "@jupyter-widgets/controls",
          "model_name": "HTMLModel",
          "model_module_version": "1.5.0",
          "state": {
            "_dom_classes": [],
            "_model_module": "@jupyter-widgets/controls",
            "_model_module_version": "1.5.0",
            "_model_name": "HTMLModel",
            "_view_count": null,
            "_view_module": "@jupyter-widgets/controls",
            "_view_module_version": "1.5.0",
            "_view_name": "HTMLView",
            "description": "",
            "description_tooltip": null,
            "layout": "IPY_MODEL_abacef4c26f640e7bc10d98de98c8c73",
            "placeholder": "​",
            "style": "IPY_MODEL_c41cba5138224d0fa3b89dfd91755f35",
            "value": " 386/386 [00:00&lt;00:00, 27.5kB/s]"
          }
        },
        "2309d0018db54061b1991836c6f4419a": {
          "model_module": "@jupyter-widgets/base",
          "model_name": "LayoutModel",
          "model_module_version": "1.2.0",
          "state": {
            "_model_module": "@jupyter-widgets/base",
            "_model_module_version": "1.2.0",
            "_model_name": "LayoutModel",
            "_view_count": null,
            "_view_module": "@jupyter-widgets/base",
            "_view_module_version": "1.2.0",
            "_view_name": "LayoutView",
            "align_content": null,
            "align_items": null,
            "align_self": null,
            "border": null,
            "bottom": null,
            "display": null,
            "flex": null,
            "flex_flow": null,
            "grid_area": null,
            "grid_auto_columns": null,
            "grid_auto_flow": null,
            "grid_auto_rows": null,
            "grid_column": null,
            "grid_gap": null,
            "grid_row": null,
            "grid_template_areas": null,
            "grid_template_columns": null,
            "grid_template_rows": null,
            "height": null,
            "justify_content": null,
            "justify_items": null,
            "left": null,
            "margin": null,
            "max_height": null,
            "max_width": null,
            "min_height": null,
            "min_width": null,
            "object_fit": null,
            "object_position": null,
            "order": null,
            "overflow": null,
            "overflow_x": null,
            "overflow_y": null,
            "padding": null,
            "right": null,
            "top": null,
            "visibility": null,
            "width": null
          }
        },
        "5b47f6345a8c46b095bbfc774c2163cd": {
          "model_module": "@jupyter-widgets/base",
          "model_name": "LayoutModel",
          "model_module_version": "1.2.0",
          "state": {
            "_model_module": "@jupyter-widgets/base",
            "_model_module_version": "1.2.0",
            "_model_name": "LayoutModel",
            "_view_count": null,
            "_view_module": "@jupyter-widgets/base",
            "_view_module_version": "1.2.0",
            "_view_name": "LayoutView",
            "align_content": null,
            "align_items": null,
            "align_self": null,
            "border": null,
            "bottom": null,
            "display": null,
            "flex": null,
            "flex_flow": null,
            "grid_area": null,
            "grid_auto_columns": null,
            "grid_auto_flow": null,
            "grid_auto_rows": null,
            "grid_column": null,
            "grid_gap": null,
            "grid_row": null,
            "grid_template_areas": null,
            "grid_template_columns": null,
            "grid_template_rows": null,
            "height": null,
            "justify_content": null,
            "justify_items": null,
            "left": null,
            "margin": null,
            "max_height": null,
            "max_width": null,
            "min_height": null,
            "min_width": null,
            "object_fit": null,
            "object_position": null,
            "order": null,
            "overflow": null,
            "overflow_x": null,
            "overflow_y": null,
            "padding": null,
            "right": null,
            "top": null,
            "visibility": null,
            "width": null
          }
        },
        "00070f93d7144e8495820f083993bd7d": {
          "model_module": "@jupyter-widgets/controls",
          "model_name": "DescriptionStyleModel",
          "model_module_version": "1.5.0",
          "state": {
            "_model_module": "@jupyter-widgets/controls",
            "_model_module_version": "1.5.0",
            "_model_name": "DescriptionStyleModel",
            "_view_count": null,
            "_view_module": "@jupyter-widgets/base",
            "_view_module_version": "1.2.0",
            "_view_name": "StyleView",
            "description_width": ""
          }
        },
        "5d79cff1fb0c4b9080468e7c32b5fe9e": {
          "model_module": "@jupyter-widgets/base",
          "model_name": "LayoutModel",
          "model_module_version": "1.2.0",
          "state": {
            "_model_module": "@jupyter-widgets/base",
            "_model_module_version": "1.2.0",
            "_model_name": "LayoutModel",
            "_view_count": null,
            "_view_module": "@jupyter-widgets/base",
            "_view_module_version": "1.2.0",
            "_view_name": "LayoutView",
            "align_content": null,
            "align_items": null,
            "align_self": null,
            "border": null,
            "bottom": null,
            "display": null,
            "flex": null,
            "flex_flow": null,
            "grid_area": null,
            "grid_auto_columns": null,
            "grid_auto_flow": null,
            "grid_auto_rows": null,
            "grid_column": null,
            "grid_gap": null,
            "grid_row": null,
            "grid_template_areas": null,
            "grid_template_columns": null,
            "grid_template_rows": null,
            "height": null,
            "justify_content": null,
            "justify_items": null,
            "left": null,
            "margin": null,
            "max_height": null,
            "max_width": null,
            "min_height": null,
            "min_width": null,
            "object_fit": null,
            "object_position": null,
            "order": null,
            "overflow": null,
            "overflow_x": null,
            "overflow_y": null,
            "padding": null,
            "right": null,
            "top": null,
            "visibility": null,
            "width": null
          }
        },
        "b6b7bb8c5568409caa5a4ab8431108f8": {
          "model_module": "@jupyter-widgets/controls",
          "model_name": "ProgressStyleModel",
          "model_module_version": "1.5.0",
          "state": {
            "_model_module": "@jupyter-widgets/controls",
            "_model_module_version": "1.5.0",
            "_model_name": "ProgressStyleModel",
            "_view_count": null,
            "_view_module": "@jupyter-widgets/base",
            "_view_module_version": "1.2.0",
            "_view_name": "StyleView",
            "bar_color": null,
            "description_width": ""
          }
        },
        "abacef4c26f640e7bc10d98de98c8c73": {
          "model_module": "@jupyter-widgets/base",
          "model_name": "LayoutModel",
          "model_module_version": "1.2.0",
          "state": {
            "_model_module": "@jupyter-widgets/base",
            "_model_module_version": "1.2.0",
            "_model_name": "LayoutModel",
            "_view_count": null,
            "_view_module": "@jupyter-widgets/base",
            "_view_module_version": "1.2.0",
            "_view_name": "LayoutView",
            "align_content": null,
            "align_items": null,
            "align_self": null,
            "border": null,
            "bottom": null,
            "display": null,
            "flex": null,
            "flex_flow": null,
            "grid_area": null,
            "grid_auto_columns": null,
            "grid_auto_flow": null,
            "grid_auto_rows": null,
            "grid_column": null,
            "grid_gap": null,
            "grid_row": null,
            "grid_template_areas": null,
            "grid_template_columns": null,
            "grid_template_rows": null,
            "height": null,
            "justify_content": null,
            "justify_items": null,
            "left": null,
            "margin": null,
            "max_height": null,
            "max_width": null,
            "min_height": null,
            "min_width": null,
            "object_fit": null,
            "object_position": null,
            "order": null,
            "overflow": null,
            "overflow_x": null,
            "overflow_y": null,
            "padding": null,
            "right": null,
            "top": null,
            "visibility": null,
            "width": null
          }
        },
        "c41cba5138224d0fa3b89dfd91755f35": {
          "model_module": "@jupyter-widgets/controls",
          "model_name": "DescriptionStyleModel",
          "model_module_version": "1.5.0",
          "state": {
            "_model_module": "@jupyter-widgets/controls",
            "_model_module_version": "1.5.0",
            "_model_name": "DescriptionStyleModel",
            "_view_count": null,
            "_view_module": "@jupyter-widgets/base",
            "_view_module_version": "1.2.0",
            "_view_name": "StyleView",
            "description_width": ""
          }
        },
        "a38058b83461454d8be3a15af44ccf4c": {
          "model_module": "@jupyter-widgets/controls",
          "model_name": "HBoxModel",
          "model_module_version": "1.5.0",
          "state": {
            "_dom_classes": [],
            "_model_module": "@jupyter-widgets/controls",
            "_model_module_version": "1.5.0",
            "_model_name": "HBoxModel",
            "_view_count": null,
            "_view_module": "@jupyter-widgets/controls",
            "_view_module_version": "1.5.0",
            "_view_name": "HBoxView",
            "box_style": "",
            "children": [
              "IPY_MODEL_efc3a326d92b4d38bad546b52908d824",
              "IPY_MODEL_4c562608ae5846b2b9902d42b65705f2",
              "IPY_MODEL_82cc8c089e63458f98b90bab6af6fa3d"
            ],
            "layout": "IPY_MODEL_8e5d7da69ffe4230bedfbc1b416d89bb"
          }
        },
        "efc3a326d92b4d38bad546b52908d824": {
          "model_module": "@jupyter-widgets/controls",
          "model_name": "HTMLModel",
          "model_module_version": "1.5.0",
          "state": {
            "_dom_classes": [],
            "_model_module": "@jupyter-widgets/controls",
            "_model_module_version": "1.5.0",
            "_model_name": "HTMLModel",
            "_view_count": null,
            "_view_module": "@jupyter-widgets/controls",
            "_view_module_version": "1.5.0",
            "_view_name": "HTMLView",
            "description": "",
            "description_tooltip": null,
            "layout": "IPY_MODEL_c5f8f0784f5d40a48e502883214cd9f2",
            "placeholder": "​",
            "style": "IPY_MODEL_2cd84eb88022470c8ee84ce31ce27631",
            "value": "config.json: 100%"
          }
        },
        "4c562608ae5846b2b9902d42b65705f2": {
          "model_module": "@jupyter-widgets/controls",
          "model_name": "FloatProgressModel",
          "model_module_version": "1.5.0",
          "state": {
            "_dom_classes": [],
            "_model_module": "@jupyter-widgets/controls",
            "_model_module_version": "1.5.0",
            "_model_name": "FloatProgressModel",
            "_view_count": null,
            "_view_module": "@jupyter-widgets/controls",
            "_view_module_version": "1.5.0",
            "_view_name": "ProgressView",
            "bar_style": "success",
            "description": "",
            "description_tooltip": null,
            "layout": "IPY_MODEL_0a0defe0110e4a70bb92a644bb6015c9",
            "max": 1294,
            "min": 0,
            "orientation": "horizontal",
            "style": "IPY_MODEL_fef7c09d7a524ecb923e20e29429def6",
            "value": 1294
          }
        },
        "82cc8c089e63458f98b90bab6af6fa3d": {
          "model_module": "@jupyter-widgets/controls",
          "model_name": "HTMLModel",
          "model_module_version": "1.5.0",
          "state": {
            "_dom_classes": [],
            "_model_module": "@jupyter-widgets/controls",
            "_model_module_version": "1.5.0",
            "_model_name": "HTMLModel",
            "_view_count": null,
            "_view_module": "@jupyter-widgets/controls",
            "_view_module_version": "1.5.0",
            "_view_name": "HTMLView",
            "description": "",
            "description_tooltip": null,
            "layout": "IPY_MODEL_cd60831cac86446cb8358904e3a4a0ab",
            "placeholder": "​",
            "style": "IPY_MODEL_cbcbe5dbf403443696b987b2161f68e6",
            "value": " 1.29k/1.29k [00:00&lt;00:00, 73.5kB/s]"
          }
        },
        "8e5d7da69ffe4230bedfbc1b416d89bb": {
          "model_module": "@jupyter-widgets/base",
          "model_name": "LayoutModel",
          "model_module_version": "1.2.0",
          "state": {
            "_model_module": "@jupyter-widgets/base",
            "_model_module_version": "1.2.0",
            "_model_name": "LayoutModel",
            "_view_count": null,
            "_view_module": "@jupyter-widgets/base",
            "_view_module_version": "1.2.0",
            "_view_name": "LayoutView",
            "align_content": null,
            "align_items": null,
            "align_self": null,
            "border": null,
            "bottom": null,
            "display": null,
            "flex": null,
            "flex_flow": null,
            "grid_area": null,
            "grid_auto_columns": null,
            "grid_auto_flow": null,
            "grid_auto_rows": null,
            "grid_column": null,
            "grid_gap": null,
            "grid_row": null,
            "grid_template_areas": null,
            "grid_template_columns": null,
            "grid_template_rows": null,
            "height": null,
            "justify_content": null,
            "justify_items": null,
            "left": null,
            "margin": null,
            "max_height": null,
            "max_width": null,
            "min_height": null,
            "min_width": null,
            "object_fit": null,
            "object_position": null,
            "order": null,
            "overflow": null,
            "overflow_x": null,
            "overflow_y": null,
            "padding": null,
            "right": null,
            "top": null,
            "visibility": null,
            "width": null
          }
        },
        "c5f8f0784f5d40a48e502883214cd9f2": {
          "model_module": "@jupyter-widgets/base",
          "model_name": "LayoutModel",
          "model_module_version": "1.2.0",
          "state": {
            "_model_module": "@jupyter-widgets/base",
            "_model_module_version": "1.2.0",
            "_model_name": "LayoutModel",
            "_view_count": null,
            "_view_module": "@jupyter-widgets/base",
            "_view_module_version": "1.2.0",
            "_view_name": "LayoutView",
            "align_content": null,
            "align_items": null,
            "align_self": null,
            "border": null,
            "bottom": null,
            "display": null,
            "flex": null,
            "flex_flow": null,
            "grid_area": null,
            "grid_auto_columns": null,
            "grid_auto_flow": null,
            "grid_auto_rows": null,
            "grid_column": null,
            "grid_gap": null,
            "grid_row": null,
            "grid_template_areas": null,
            "grid_template_columns": null,
            "grid_template_rows": null,
            "height": null,
            "justify_content": null,
            "justify_items": null,
            "left": null,
            "margin": null,
            "max_height": null,
            "max_width": null,
            "min_height": null,
            "min_width": null,
            "object_fit": null,
            "object_position": null,
            "order": null,
            "overflow": null,
            "overflow_x": null,
            "overflow_y": null,
            "padding": null,
            "right": null,
            "top": null,
            "visibility": null,
            "width": null
          }
        },
        "2cd84eb88022470c8ee84ce31ce27631": {
          "model_module": "@jupyter-widgets/controls",
          "model_name": "DescriptionStyleModel",
          "model_module_version": "1.5.0",
          "state": {
            "_model_module": "@jupyter-widgets/controls",
            "_model_module_version": "1.5.0",
            "_model_name": "DescriptionStyleModel",
            "_view_count": null,
            "_view_module": "@jupyter-widgets/base",
            "_view_module_version": "1.2.0",
            "_view_name": "StyleView",
            "description_width": ""
          }
        },
        "0a0defe0110e4a70bb92a644bb6015c9": {
          "model_module": "@jupyter-widgets/base",
          "model_name": "LayoutModel",
          "model_module_version": "1.2.0",
          "state": {
            "_model_module": "@jupyter-widgets/base",
            "_model_module_version": "1.2.0",
            "_model_name": "LayoutModel",
            "_view_count": null,
            "_view_module": "@jupyter-widgets/base",
            "_view_module_version": "1.2.0",
            "_view_name": "LayoutView",
            "align_content": null,
            "align_items": null,
            "align_self": null,
            "border": null,
            "bottom": null,
            "display": null,
            "flex": null,
            "flex_flow": null,
            "grid_area": null,
            "grid_auto_columns": null,
            "grid_auto_flow": null,
            "grid_auto_rows": null,
            "grid_column": null,
            "grid_gap": null,
            "grid_row": null,
            "grid_template_areas": null,
            "grid_template_columns": null,
            "grid_template_rows": null,
            "height": null,
            "justify_content": null,
            "justify_items": null,
            "left": null,
            "margin": null,
            "max_height": null,
            "max_width": null,
            "min_height": null,
            "min_width": null,
            "object_fit": null,
            "object_position": null,
            "order": null,
            "overflow": null,
            "overflow_x": null,
            "overflow_y": null,
            "padding": null,
            "right": null,
            "top": null,
            "visibility": null,
            "width": null
          }
        },
        "fef7c09d7a524ecb923e20e29429def6": {
          "model_module": "@jupyter-widgets/controls",
          "model_name": "ProgressStyleModel",
          "model_module_version": "1.5.0",
          "state": {
            "_model_module": "@jupyter-widgets/controls",
            "_model_module_version": "1.5.0",
            "_model_name": "ProgressStyleModel",
            "_view_count": null,
            "_view_module": "@jupyter-widgets/base",
            "_view_module_version": "1.2.0",
            "_view_name": "StyleView",
            "bar_color": null,
            "description_width": ""
          }
        },
        "cd60831cac86446cb8358904e3a4a0ab": {
          "model_module": "@jupyter-widgets/base",
          "model_name": "LayoutModel",
          "model_module_version": "1.2.0",
          "state": {
            "_model_module": "@jupyter-widgets/base",
            "_model_module_version": "1.2.0",
            "_model_name": "LayoutModel",
            "_view_count": null,
            "_view_module": "@jupyter-widgets/base",
            "_view_module_version": "1.2.0",
            "_view_name": "LayoutView",
            "align_content": null,
            "align_items": null,
            "align_self": null,
            "border": null,
            "bottom": null,
            "display": null,
            "flex": null,
            "flex_flow": null,
            "grid_area": null,
            "grid_auto_columns": null,
            "grid_auto_flow": null,
            "grid_auto_rows": null,
            "grid_column": null,
            "grid_gap": null,
            "grid_row": null,
            "grid_template_areas": null,
            "grid_template_columns": null,
            "grid_template_rows": null,
            "height": null,
            "justify_content": null,
            "justify_items": null,
            "left": null,
            "margin": null,
            "max_height": null,
            "max_width": null,
            "min_height": null,
            "min_width": null,
            "object_fit": null,
            "object_position": null,
            "order": null,
            "overflow": null,
            "overflow_x": null,
            "overflow_y": null,
            "padding": null,
            "right": null,
            "top": null,
            "visibility": null,
            "width": null
          }
        },
        "cbcbe5dbf403443696b987b2161f68e6": {
          "model_module": "@jupyter-widgets/controls",
          "model_name": "DescriptionStyleModel",
          "model_module_version": "1.5.0",
          "state": {
            "_model_module": "@jupyter-widgets/controls",
            "_model_module_version": "1.5.0",
            "_model_name": "DescriptionStyleModel",
            "_view_count": null,
            "_view_module": "@jupyter-widgets/base",
            "_view_module_version": "1.2.0",
            "_view_name": "StyleView",
            "description_width": ""
          }
        },
        "9b1c4b0f6e4e430489015e7b3de9b9b1": {
          "model_module": "@jupyter-widgets/controls",
          "model_name": "HBoxModel",
          "model_module_version": "1.5.0",
          "state": {
            "_dom_classes": [],
            "_model_module": "@jupyter-widgets/controls",
            "_model_module_version": "1.5.0",
            "_model_name": "HBoxModel",
            "_view_count": null,
            "_view_module": "@jupyter-widgets/controls",
            "_view_module_version": "1.5.0",
            "_view_name": "HBoxView",
            "box_style": "",
            "children": [
              "IPY_MODEL_a1cfb2baf6eb40b7a5cee156070eb88d",
              "IPY_MODEL_39c1162937344e83aa3bbba9cf00a754",
              "IPY_MODEL_281eb8c85e6e4bf5ac6b95159dbe38ce"
            ],
            "layout": "IPY_MODEL_ffd69a55ba7a423e8b31c39cdd4253aa"
          }
        },
        "a1cfb2baf6eb40b7a5cee156070eb88d": {
          "model_module": "@jupyter-widgets/controls",
          "model_name": "HTMLModel",
          "model_module_version": "1.5.0",
          "state": {
            "_dom_classes": [],
            "_model_module": "@jupyter-widgets/controls",
            "_model_module_version": "1.5.0",
            "_model_name": "HTMLModel",
            "_view_count": null,
            "_view_module": "@jupyter-widgets/controls",
            "_view_module_version": "1.5.0",
            "_view_name": "HTMLView",
            "description": "",
            "description_tooltip": null,
            "layout": "IPY_MODEL_634e65cd85c94ee8b822ff40127de099",
            "placeholder": "​",
            "style": "IPY_MODEL_ae0106f49b1c47f28e1b357d5e5591b3",
            "value": "vocab.json: 100%"
          }
        },
        "39c1162937344e83aa3bbba9cf00a754": {
          "model_module": "@jupyter-widgets/controls",
          "model_name": "FloatProgressModel",
          "model_module_version": "1.5.0",
          "state": {
            "_dom_classes": [],
            "_model_module": "@jupyter-widgets/controls",
            "_model_module_version": "1.5.0",
            "_model_name": "FloatProgressModel",
            "_view_count": null,
            "_view_module": "@jupyter-widgets/controls",
            "_view_module_version": "1.5.0",
            "_view_name": "ProgressView",
            "bar_style": "success",
            "description": "",
            "description_tooltip": null,
            "layout": "IPY_MODEL_1cb998aa459145a5afbaca97ef2460fd",
            "max": 440,
            "min": 0,
            "orientation": "horizontal",
            "style": "IPY_MODEL_5c09b1aefa7e4ff483729179a35fec8d",
            "value": 440
          }
        },
        "281eb8c85e6e4bf5ac6b95159dbe38ce": {
          "model_module": "@jupyter-widgets/controls",
          "model_name": "HTMLModel",
          "model_module_version": "1.5.0",
          "state": {
            "_dom_classes": [],
            "_model_module": "@jupyter-widgets/controls",
            "_model_module_version": "1.5.0",
            "_model_name": "HTMLModel",
            "_view_count": null,
            "_view_module": "@jupyter-widgets/controls",
            "_view_module_version": "1.5.0",
            "_view_name": "HTMLView",
            "description": "",
            "description_tooltip": null,
            "layout": "IPY_MODEL_4bca006a63a141f29883580a9ba7bba6",
            "placeholder": "​",
            "style": "IPY_MODEL_e6943542b5394dac96cc7568e29413ca",
            "value": " 440/440 [00:00&lt;00:00, 16.8kB/s]"
          }
        },
        "ffd69a55ba7a423e8b31c39cdd4253aa": {
          "model_module": "@jupyter-widgets/base",
          "model_name": "LayoutModel",
          "model_module_version": "1.2.0",
          "state": {
            "_model_module": "@jupyter-widgets/base",
            "_model_module_version": "1.2.0",
            "_model_name": "LayoutModel",
            "_view_count": null,
            "_view_module": "@jupyter-widgets/base",
            "_view_module_version": "1.2.0",
            "_view_name": "LayoutView",
            "align_content": null,
            "align_items": null,
            "align_self": null,
            "border": null,
            "bottom": null,
            "display": null,
            "flex": null,
            "flex_flow": null,
            "grid_area": null,
            "grid_auto_columns": null,
            "grid_auto_flow": null,
            "grid_auto_rows": null,
            "grid_column": null,
            "grid_gap": null,
            "grid_row": null,
            "grid_template_areas": null,
            "grid_template_columns": null,
            "grid_template_rows": null,
            "height": null,
            "justify_content": null,
            "justify_items": null,
            "left": null,
            "margin": null,
            "max_height": null,
            "max_width": null,
            "min_height": null,
            "min_width": null,
            "object_fit": null,
            "object_position": null,
            "order": null,
            "overflow": null,
            "overflow_x": null,
            "overflow_y": null,
            "padding": null,
            "right": null,
            "top": null,
            "visibility": null,
            "width": null
          }
        },
        "634e65cd85c94ee8b822ff40127de099": {
          "model_module": "@jupyter-widgets/base",
          "model_name": "LayoutModel",
          "model_module_version": "1.2.0",
          "state": {
            "_model_module": "@jupyter-widgets/base",
            "_model_module_version": "1.2.0",
            "_model_name": "LayoutModel",
            "_view_count": null,
            "_view_module": "@jupyter-widgets/base",
            "_view_module_version": "1.2.0",
            "_view_name": "LayoutView",
            "align_content": null,
            "align_items": null,
            "align_self": null,
            "border": null,
            "bottom": null,
            "display": null,
            "flex": null,
            "flex_flow": null,
            "grid_area": null,
            "grid_auto_columns": null,
            "grid_auto_flow": null,
            "grid_auto_rows": null,
            "grid_column": null,
            "grid_gap": null,
            "grid_row": null,
            "grid_template_areas": null,
            "grid_template_columns": null,
            "grid_template_rows": null,
            "height": null,
            "justify_content": null,
            "justify_items": null,
            "left": null,
            "margin": null,
            "max_height": null,
            "max_width": null,
            "min_height": null,
            "min_width": null,
            "object_fit": null,
            "object_position": null,
            "order": null,
            "overflow": null,
            "overflow_x": null,
            "overflow_y": null,
            "padding": null,
            "right": null,
            "top": null,
            "visibility": null,
            "width": null
          }
        },
        "ae0106f49b1c47f28e1b357d5e5591b3": {
          "model_module": "@jupyter-widgets/controls",
          "model_name": "DescriptionStyleModel",
          "model_module_version": "1.5.0",
          "state": {
            "_model_module": "@jupyter-widgets/controls",
            "_model_module_version": "1.5.0",
            "_model_name": "DescriptionStyleModel",
            "_view_count": null,
            "_view_module": "@jupyter-widgets/base",
            "_view_module_version": "1.2.0",
            "_view_name": "StyleView",
            "description_width": ""
          }
        },
        "1cb998aa459145a5afbaca97ef2460fd": {
          "model_module": "@jupyter-widgets/base",
          "model_name": "LayoutModel",
          "model_module_version": "1.2.0",
          "state": {
            "_model_module": "@jupyter-widgets/base",
            "_model_module_version": "1.2.0",
            "_model_name": "LayoutModel",
            "_view_count": null,
            "_view_module": "@jupyter-widgets/base",
            "_view_module_version": "1.2.0",
            "_view_name": "LayoutView",
            "align_content": null,
            "align_items": null,
            "align_self": null,
            "border": null,
            "bottom": null,
            "display": null,
            "flex": null,
            "flex_flow": null,
            "grid_area": null,
            "grid_auto_columns": null,
            "grid_auto_flow": null,
            "grid_auto_rows": null,
            "grid_column": null,
            "grid_gap": null,
            "grid_row": null,
            "grid_template_areas": null,
            "grid_template_columns": null,
            "grid_template_rows": null,
            "height": null,
            "justify_content": null,
            "justify_items": null,
            "left": null,
            "margin": null,
            "max_height": null,
            "max_width": null,
            "min_height": null,
            "min_width": null,
            "object_fit": null,
            "object_position": null,
            "order": null,
            "overflow": null,
            "overflow_x": null,
            "overflow_y": null,
            "padding": null,
            "right": null,
            "top": null,
            "visibility": null,
            "width": null
          }
        },
        "5c09b1aefa7e4ff483729179a35fec8d": {
          "model_module": "@jupyter-widgets/controls",
          "model_name": "ProgressStyleModel",
          "model_module_version": "1.5.0",
          "state": {
            "_model_module": "@jupyter-widgets/controls",
            "_model_module_version": "1.5.0",
            "_model_name": "ProgressStyleModel",
            "_view_count": null,
            "_view_module": "@jupyter-widgets/base",
            "_view_module_version": "1.2.0",
            "_view_name": "StyleView",
            "bar_color": null,
            "description_width": ""
          }
        },
        "4bca006a63a141f29883580a9ba7bba6": {
          "model_module": "@jupyter-widgets/base",
          "model_name": "LayoutModel",
          "model_module_version": "1.2.0",
          "state": {
            "_model_module": "@jupyter-widgets/base",
            "_model_module_version": "1.2.0",
            "_model_name": "LayoutModel",
            "_view_count": null,
            "_view_module": "@jupyter-widgets/base",
            "_view_module_version": "1.2.0",
            "_view_name": "LayoutView",
            "align_content": null,
            "align_items": null,
            "align_self": null,
            "border": null,
            "bottom": null,
            "display": null,
            "flex": null,
            "flex_flow": null,
            "grid_area": null,
            "grid_auto_columns": null,
            "grid_auto_flow": null,
            "grid_auto_rows": null,
            "grid_column": null,
            "grid_gap": null,
            "grid_row": null,
            "grid_template_areas": null,
            "grid_template_columns": null,
            "grid_template_rows": null,
            "height": null,
            "justify_content": null,
            "justify_items": null,
            "left": null,
            "margin": null,
            "max_height": null,
            "max_width": null,
            "min_height": null,
            "min_width": null,
            "object_fit": null,
            "object_position": null,
            "order": null,
            "overflow": null,
            "overflow_x": null,
            "overflow_y": null,
            "padding": null,
            "right": null,
            "top": null,
            "visibility": null,
            "width": null
          }
        },
        "e6943542b5394dac96cc7568e29413ca": {
          "model_module": "@jupyter-widgets/controls",
          "model_name": "DescriptionStyleModel",
          "model_module_version": "1.5.0",
          "state": {
            "_model_module": "@jupyter-widgets/controls",
            "_model_module_version": "1.5.0",
            "_model_name": "DescriptionStyleModel",
            "_view_count": null,
            "_view_module": "@jupyter-widgets/base",
            "_view_module_version": "1.2.0",
            "_view_name": "StyleView",
            "description_width": ""
          }
        },
        "bf4b63d1bd954981ab546898871e2cbe": {
          "model_module": "@jupyter-widgets/controls",
          "model_name": "HBoxModel",
          "model_module_version": "1.5.0",
          "state": {
            "_dom_classes": [],
            "_model_module": "@jupyter-widgets/controls",
            "_model_module_version": "1.5.0",
            "_model_name": "HBoxModel",
            "_view_count": null,
            "_view_module": "@jupyter-widgets/controls",
            "_view_module_version": "1.5.0",
            "_view_name": "HBoxView",
            "box_style": "",
            "children": [
              "IPY_MODEL_eaf24f47596e43fd919356ab754e9548",
              "IPY_MODEL_ced14ad27b0e406ca76c37055229391d",
              "IPY_MODEL_5357eea0a5764a3eb7ff68dfcd8e8b7f"
            ],
            "layout": "IPY_MODEL_260e2b76f7814cde909e359e741804e3"
          }
        },
        "eaf24f47596e43fd919356ab754e9548": {
          "model_module": "@jupyter-widgets/controls",
          "model_name": "HTMLModel",
          "model_module_version": "1.5.0",
          "state": {
            "_dom_classes": [],
            "_model_module": "@jupyter-widgets/controls",
            "_model_module_version": "1.5.0",
            "_model_name": "HTMLModel",
            "_view_count": null,
            "_view_module": "@jupyter-widgets/controls",
            "_view_module_version": "1.5.0",
            "_view_name": "HTMLView",
            "description": "",
            "description_tooltip": null,
            "layout": "IPY_MODEL_44cac8826f2c44c59ee6c2090aca31fb",
            "placeholder": "​",
            "style": "IPY_MODEL_7f424a24faa645b694575180686ff08c",
            "value": "special_tokens_map.json: 100%"
          }
        },
        "ced14ad27b0e406ca76c37055229391d": {
          "model_module": "@jupyter-widgets/controls",
          "model_name": "FloatProgressModel",
          "model_module_version": "1.5.0",
          "state": {
            "_dom_classes": [],
            "_model_module": "@jupyter-widgets/controls",
            "_model_module_version": "1.5.0",
            "_model_name": "FloatProgressModel",
            "_view_count": null,
            "_view_module": "@jupyter-widgets/controls",
            "_view_module_version": "1.5.0",
            "_view_name": "ProgressView",
            "bar_style": "success",
            "description": "",
            "description_tooltip": null,
            "layout": "IPY_MODEL_6bf99445fc594d40b40343930537c369",
            "max": 85,
            "min": 0,
            "orientation": "horizontal",
            "style": "IPY_MODEL_2c679a77350343e9866b4bf0477a57be",
            "value": 85
          }
        },
        "5357eea0a5764a3eb7ff68dfcd8e8b7f": {
          "model_module": "@jupyter-widgets/controls",
          "model_name": "HTMLModel",
          "model_module_version": "1.5.0",
          "state": {
            "_dom_classes": [],
            "_model_module": "@jupyter-widgets/controls",
            "_model_module_version": "1.5.0",
            "_model_name": "HTMLModel",
            "_view_count": null,
            "_view_module": "@jupyter-widgets/controls",
            "_view_module_version": "1.5.0",
            "_view_name": "HTMLView",
            "description": "",
            "description_tooltip": null,
            "layout": "IPY_MODEL_2e485886834748818b0d1dc39637add3",
            "placeholder": "​",
            "style": "IPY_MODEL_19ddd60a08754a718abcd8b66753db4a",
            "value": " 85.0/85.0 [00:00&lt;00:00, 5.96kB/s]"
          }
        },
        "260e2b76f7814cde909e359e741804e3": {
          "model_module": "@jupyter-widgets/base",
          "model_name": "LayoutModel",
          "model_module_version": "1.2.0",
          "state": {
            "_model_module": "@jupyter-widgets/base",
            "_model_module_version": "1.2.0",
            "_model_name": "LayoutModel",
            "_view_count": null,
            "_view_module": "@jupyter-widgets/base",
            "_view_module_version": "1.2.0",
            "_view_name": "LayoutView",
            "align_content": null,
            "align_items": null,
            "align_self": null,
            "border": null,
            "bottom": null,
            "display": null,
            "flex": null,
            "flex_flow": null,
            "grid_area": null,
            "grid_auto_columns": null,
            "grid_auto_flow": null,
            "grid_auto_rows": null,
            "grid_column": null,
            "grid_gap": null,
            "grid_row": null,
            "grid_template_areas": null,
            "grid_template_columns": null,
            "grid_template_rows": null,
            "height": null,
            "justify_content": null,
            "justify_items": null,
            "left": null,
            "margin": null,
            "max_height": null,
            "max_width": null,
            "min_height": null,
            "min_width": null,
            "object_fit": null,
            "object_position": null,
            "order": null,
            "overflow": null,
            "overflow_x": null,
            "overflow_y": null,
            "padding": null,
            "right": null,
            "top": null,
            "visibility": null,
            "width": null
          }
        },
        "44cac8826f2c44c59ee6c2090aca31fb": {
          "model_module": "@jupyter-widgets/base",
          "model_name": "LayoutModel",
          "model_module_version": "1.2.0",
          "state": {
            "_model_module": "@jupyter-widgets/base",
            "_model_module_version": "1.2.0",
            "_model_name": "LayoutModel",
            "_view_count": null,
            "_view_module": "@jupyter-widgets/base",
            "_view_module_version": "1.2.0",
            "_view_name": "LayoutView",
            "align_content": null,
            "align_items": null,
            "align_self": null,
            "border": null,
            "bottom": null,
            "display": null,
            "flex": null,
            "flex_flow": null,
            "grid_area": null,
            "grid_auto_columns": null,
            "grid_auto_flow": null,
            "grid_auto_rows": null,
            "grid_column": null,
            "grid_gap": null,
            "grid_row": null,
            "grid_template_areas": null,
            "grid_template_columns": null,
            "grid_template_rows": null,
            "height": null,
            "justify_content": null,
            "justify_items": null,
            "left": null,
            "margin": null,
            "max_height": null,
            "max_width": null,
            "min_height": null,
            "min_width": null,
            "object_fit": null,
            "object_position": null,
            "order": null,
            "overflow": null,
            "overflow_x": null,
            "overflow_y": null,
            "padding": null,
            "right": null,
            "top": null,
            "visibility": null,
            "width": null
          }
        },
        "7f424a24faa645b694575180686ff08c": {
          "model_module": "@jupyter-widgets/controls",
          "model_name": "DescriptionStyleModel",
          "model_module_version": "1.5.0",
          "state": {
            "_model_module": "@jupyter-widgets/controls",
            "_model_module_version": "1.5.0",
            "_model_name": "DescriptionStyleModel",
            "_view_count": null,
            "_view_module": "@jupyter-widgets/base",
            "_view_module_version": "1.2.0",
            "_view_name": "StyleView",
            "description_width": ""
          }
        },
        "6bf99445fc594d40b40343930537c369": {
          "model_module": "@jupyter-widgets/base",
          "model_name": "LayoutModel",
          "model_module_version": "1.2.0",
          "state": {
            "_model_module": "@jupyter-widgets/base",
            "_model_module_version": "1.2.0",
            "_model_name": "LayoutModel",
            "_view_count": null,
            "_view_module": "@jupyter-widgets/base",
            "_view_module_version": "1.2.0",
            "_view_name": "LayoutView",
            "align_content": null,
            "align_items": null,
            "align_self": null,
            "border": null,
            "bottom": null,
            "display": null,
            "flex": null,
            "flex_flow": null,
            "grid_area": null,
            "grid_auto_columns": null,
            "grid_auto_flow": null,
            "grid_auto_rows": null,
            "grid_column": null,
            "grid_gap": null,
            "grid_row": null,
            "grid_template_areas": null,
            "grid_template_columns": null,
            "grid_template_rows": null,
            "height": null,
            "justify_content": null,
            "justify_items": null,
            "left": null,
            "margin": null,
            "max_height": null,
            "max_width": null,
            "min_height": null,
            "min_width": null,
            "object_fit": null,
            "object_position": null,
            "order": null,
            "overflow": null,
            "overflow_x": null,
            "overflow_y": null,
            "padding": null,
            "right": null,
            "top": null,
            "visibility": null,
            "width": null
          }
        },
        "2c679a77350343e9866b4bf0477a57be": {
          "model_module": "@jupyter-widgets/controls",
          "model_name": "ProgressStyleModel",
          "model_module_version": "1.5.0",
          "state": {
            "_model_module": "@jupyter-widgets/controls",
            "_model_module_version": "1.5.0",
            "_model_name": "ProgressStyleModel",
            "_view_count": null,
            "_view_module": "@jupyter-widgets/base",
            "_view_module_version": "1.2.0",
            "_view_name": "StyleView",
            "bar_color": null,
            "description_width": ""
          }
        },
        "2e485886834748818b0d1dc39637add3": {
          "model_module": "@jupyter-widgets/base",
          "model_name": "LayoutModel",
          "model_module_version": "1.2.0",
          "state": {
            "_model_module": "@jupyter-widgets/base",
            "_model_module_version": "1.2.0",
            "_model_name": "LayoutModel",
            "_view_count": null,
            "_view_module": "@jupyter-widgets/base",
            "_view_module_version": "1.2.0",
            "_view_name": "LayoutView",
            "align_content": null,
            "align_items": null,
            "align_self": null,
            "border": null,
            "bottom": null,
            "display": null,
            "flex": null,
            "flex_flow": null,
            "grid_area": null,
            "grid_auto_columns": null,
            "grid_auto_flow": null,
            "grid_auto_rows": null,
            "grid_column": null,
            "grid_gap": null,
            "grid_row": null,
            "grid_template_areas": null,
            "grid_template_columns": null,
            "grid_template_rows": null,
            "height": null,
            "justify_content": null,
            "justify_items": null,
            "left": null,
            "margin": null,
            "max_height": null,
            "max_width": null,
            "min_height": null,
            "min_width": null,
            "object_fit": null,
            "object_position": null,
            "order": null,
            "overflow": null,
            "overflow_x": null,
            "overflow_y": null,
            "padding": null,
            "right": null,
            "top": null,
            "visibility": null,
            "width": null
          }
        },
        "19ddd60a08754a718abcd8b66753db4a": {
          "model_module": "@jupyter-widgets/controls",
          "model_name": "DescriptionStyleModel",
          "model_module_version": "1.5.0",
          "state": {
            "_model_module": "@jupyter-widgets/controls",
            "_model_module_version": "1.5.0",
            "_model_name": "DescriptionStyleModel",
            "_view_count": null,
            "_view_module": "@jupyter-widgets/base",
            "_view_module_version": "1.2.0",
            "_view_name": "StyleView",
            "description_width": ""
          }
        },
        "adf744159c2f42e38a931636e34ad6c4": {
          "model_module": "@jupyter-widgets/controls",
          "model_name": "HBoxModel",
          "model_module_version": "1.5.0",
          "state": {
            "_dom_classes": [],
            "_model_module": "@jupyter-widgets/controls",
            "_model_module_version": "1.5.0",
            "_model_name": "HBoxModel",
            "_view_count": null,
            "_view_module": "@jupyter-widgets/controls",
            "_view_module_version": "1.5.0",
            "_view_name": "HBoxView",
            "box_style": "",
            "children": [
              "IPY_MODEL_f3ef8bf431944ae7b410ad1002689589",
              "IPY_MODEL_6fbc8799fc5b4039935a08abec63d7c1",
              "IPY_MODEL_6c1c4683692241f5950197990823ea29"
            ],
            "layout": "IPY_MODEL_0128a5f3657a4510829479be2aa5890b"
          }
        },
        "f3ef8bf431944ae7b410ad1002689589": {
          "model_module": "@jupyter-widgets/controls",
          "model_name": "HTMLModel",
          "model_module_version": "1.5.0",
          "state": {
            "_dom_classes": [],
            "_model_module": "@jupyter-widgets/controls",
            "_model_module_version": "1.5.0",
            "_model_name": "HTMLModel",
            "_view_count": null,
            "_view_module": "@jupyter-widgets/controls",
            "_view_module_version": "1.5.0",
            "_view_name": "HTMLView",
            "description": "",
            "description_tooltip": null,
            "layout": "IPY_MODEL_2e9ae3293b28462db1d0cdcb8b7f07c5",
            "placeholder": "​",
            "style": "IPY_MODEL_2f40a83aa59b42c6b34a591638818a16",
            "value": "pytorch_model.bin: 100%"
          }
        },
        "6fbc8799fc5b4039935a08abec63d7c1": {
          "model_module": "@jupyter-widgets/controls",
          "model_name": "FloatProgressModel",
          "model_module_version": "1.5.0",
          "state": {
            "_dom_classes": [],
            "_model_module": "@jupyter-widgets/controls",
            "_model_module_version": "1.5.0",
            "_model_name": "FloatProgressModel",
            "_view_count": null,
            "_view_module": "@jupyter-widgets/controls",
            "_view_module_version": "1.5.0",
            "_view_name": "ProgressView",
            "bar_style": "success",
            "description": "",
            "description_tooltip": null,
            "layout": "IPY_MODEL_757027702b06400e9c38fb02a009799f",
            "max": 1262120663,
            "min": 0,
            "orientation": "horizontal",
            "style": "IPY_MODEL_4c3ee9f2e9b44c86aece2fceb7d7f4bb",
            "value": 1262120663
          }
        },
        "6c1c4683692241f5950197990823ea29": {
          "model_module": "@jupyter-widgets/controls",
          "model_name": "HTMLModel",
          "model_module_version": "1.5.0",
          "state": {
            "_dom_classes": [],
            "_model_module": "@jupyter-widgets/controls",
            "_model_module_version": "1.5.0",
            "_model_name": "HTMLModel",
            "_view_count": null,
            "_view_module": "@jupyter-widgets/controls",
            "_view_module_version": "1.5.0",
            "_view_name": "HTMLView",
            "description": "",
            "description_tooltip": null,
            "layout": "IPY_MODEL_a7430544dca24265a3cfbb8437c96a73",
            "placeholder": "​",
            "style": "IPY_MODEL_698f50fe5b844c328a8ec575aab5d8fd",
            "value": " 1.26G/1.26G [00:05&lt;00:00, 240MB/s]"
          }
        },
        "0128a5f3657a4510829479be2aa5890b": {
          "model_module": "@jupyter-widgets/base",
          "model_name": "LayoutModel",
          "model_module_version": "1.2.0",
          "state": {
            "_model_module": "@jupyter-widgets/base",
            "_model_module_version": "1.2.0",
            "_model_name": "LayoutModel",
            "_view_count": null,
            "_view_module": "@jupyter-widgets/base",
            "_view_module_version": "1.2.0",
            "_view_name": "LayoutView",
            "align_content": null,
            "align_items": null,
            "align_self": null,
            "border": null,
            "bottom": null,
            "display": null,
            "flex": null,
            "flex_flow": null,
            "grid_area": null,
            "grid_auto_columns": null,
            "grid_auto_flow": null,
            "grid_auto_rows": null,
            "grid_column": null,
            "grid_gap": null,
            "grid_row": null,
            "grid_template_areas": null,
            "grid_template_columns": null,
            "grid_template_rows": null,
            "height": null,
            "justify_content": null,
            "justify_items": null,
            "left": null,
            "margin": null,
            "max_height": null,
            "max_width": null,
            "min_height": null,
            "min_width": null,
            "object_fit": null,
            "object_position": null,
            "order": null,
            "overflow": null,
            "overflow_x": null,
            "overflow_y": null,
            "padding": null,
            "right": null,
            "top": null,
            "visibility": null,
            "width": null
          }
        },
        "2e9ae3293b28462db1d0cdcb8b7f07c5": {
          "model_module": "@jupyter-widgets/base",
          "model_name": "LayoutModel",
          "model_module_version": "1.2.0",
          "state": {
            "_model_module": "@jupyter-widgets/base",
            "_model_module_version": "1.2.0",
            "_model_name": "LayoutModel",
            "_view_count": null,
            "_view_module": "@jupyter-widgets/base",
            "_view_module_version": "1.2.0",
            "_view_name": "LayoutView",
            "align_content": null,
            "align_items": null,
            "align_self": null,
            "border": null,
            "bottom": null,
            "display": null,
            "flex": null,
            "flex_flow": null,
            "grid_area": null,
            "grid_auto_columns": null,
            "grid_auto_flow": null,
            "grid_auto_rows": null,
            "grid_column": null,
            "grid_gap": null,
            "grid_row": null,
            "grid_template_areas": null,
            "grid_template_columns": null,
            "grid_template_rows": null,
            "height": null,
            "justify_content": null,
            "justify_items": null,
            "left": null,
            "margin": null,
            "max_height": null,
            "max_width": null,
            "min_height": null,
            "min_width": null,
            "object_fit": null,
            "object_position": null,
            "order": null,
            "overflow": null,
            "overflow_x": null,
            "overflow_y": null,
            "padding": null,
            "right": null,
            "top": null,
            "visibility": null,
            "width": null
          }
        },
        "2f40a83aa59b42c6b34a591638818a16": {
          "model_module": "@jupyter-widgets/controls",
          "model_name": "DescriptionStyleModel",
          "model_module_version": "1.5.0",
          "state": {
            "_model_module": "@jupyter-widgets/controls",
            "_model_module_version": "1.5.0",
            "_model_name": "DescriptionStyleModel",
            "_view_count": null,
            "_view_module": "@jupyter-widgets/base",
            "_view_module_version": "1.2.0",
            "_view_name": "StyleView",
            "description_width": ""
          }
        },
        "757027702b06400e9c38fb02a009799f": {
          "model_module": "@jupyter-widgets/base",
          "model_name": "LayoutModel",
          "model_module_version": "1.2.0",
          "state": {
            "_model_module": "@jupyter-widgets/base",
            "_model_module_version": "1.2.0",
            "_model_name": "LayoutModel",
            "_view_count": null,
            "_view_module": "@jupyter-widgets/base",
            "_view_module_version": "1.2.0",
            "_view_name": "LayoutView",
            "align_content": null,
            "align_items": null,
            "align_self": null,
            "border": null,
            "bottom": null,
            "display": null,
            "flex": null,
            "flex_flow": null,
            "grid_area": null,
            "grid_auto_columns": null,
            "grid_auto_flow": null,
            "grid_auto_rows": null,
            "grid_column": null,
            "grid_gap": null,
            "grid_row": null,
            "grid_template_areas": null,
            "grid_template_columns": null,
            "grid_template_rows": null,
            "height": null,
            "justify_content": null,
            "justify_items": null,
            "left": null,
            "margin": null,
            "max_height": null,
            "max_width": null,
            "min_height": null,
            "min_width": null,
            "object_fit": null,
            "object_position": null,
            "order": null,
            "overflow": null,
            "overflow_x": null,
            "overflow_y": null,
            "padding": null,
            "right": null,
            "top": null,
            "visibility": null,
            "width": null
          }
        },
        "4c3ee9f2e9b44c86aece2fceb7d7f4bb": {
          "model_module": "@jupyter-widgets/controls",
          "model_name": "ProgressStyleModel",
          "model_module_version": "1.5.0",
          "state": {
            "_model_module": "@jupyter-widgets/controls",
            "_model_module_version": "1.5.0",
            "_model_name": "ProgressStyleModel",
            "_view_count": null,
            "_view_module": "@jupyter-widgets/base",
            "_view_module_version": "1.2.0",
            "_view_name": "StyleView",
            "bar_color": null,
            "description_width": ""
          }
        },
        "a7430544dca24265a3cfbb8437c96a73": {
          "model_module": "@jupyter-widgets/base",
          "model_name": "LayoutModel",
          "model_module_version": "1.2.0",
          "state": {
            "_model_module": "@jupyter-widgets/base",
            "_model_module_version": "1.2.0",
            "_model_name": "LayoutModel",
            "_view_count": null,
            "_view_module": "@jupyter-widgets/base",
            "_view_module_version": "1.2.0",
            "_view_name": "LayoutView",
            "align_content": null,
            "align_items": null,
            "align_self": null,
            "border": null,
            "bottom": null,
            "display": null,
            "flex": null,
            "flex_flow": null,
            "grid_area": null,
            "grid_auto_columns": null,
            "grid_auto_flow": null,
            "grid_auto_rows": null,
            "grid_column": null,
            "grid_gap": null,
            "grid_row": null,
            "grid_template_areas": null,
            "grid_template_columns": null,
            "grid_template_rows": null,
            "height": null,
            "justify_content": null,
            "justify_items": null,
            "left": null,
            "margin": null,
            "max_height": null,
            "max_width": null,
            "min_height": null,
            "min_width": null,
            "object_fit": null,
            "object_position": null,
            "order": null,
            "overflow": null,
            "overflow_x": null,
            "overflow_y": null,
            "padding": null,
            "right": null,
            "top": null,
            "visibility": null,
            "width": null
          }
        },
        "698f50fe5b844c328a8ec575aab5d8fd": {
          "model_module": "@jupyter-widgets/controls",
          "model_name": "DescriptionStyleModel",
          "model_module_version": "1.5.0",
          "state": {
            "_model_module": "@jupyter-widgets/controls",
            "_model_module_version": "1.5.0",
            "_model_name": "DescriptionStyleModel",
            "_view_count": null,
            "_view_module": "@jupyter-widgets/base",
            "_view_module_version": "1.2.0",
            "_view_name": "StyleView",
            "description_width": ""
          }
        }
      }
    }
  },
  "cells": [
    {
      "cell_type": "code",
      "execution_count": null,
      "metadata": {
        "id": "-5GHNBrUwv_h"
      },
      "outputs": [],
      "source": [
        "import pandas as pd\n",
        "import numpy as np\n",
        "import matplotlib.pyplot as plt\n",
        "import os\n",
        "from tqdm import tqdm\n",
        "import sklearn\n",
        "\n",
        "import torch\n",
        "import torchaudio\n",
        "from transformers import Wav2Vec2ForCTC, Wav2Vec2Processor\n",
        "from torch.utils.data import Dataset, DataLoader\n",
        "import torch.nn as nn\n",
        "\n",
        "#Ignora warning\n",
        "import warnings\n",
        "warnings.filterwarnings('ignore')\n",
        "\n",
        "from scipy.io.wavfile import write\n",
        "from audiomentations import TimeMask, PitchShift, TanhDistortion, AddBackgroundNoise, SpecFrequencyMask\n",
        "import librosa\n",
        "import os\n",
        "import librosa\n",
        "import numpy as np\n",
        "import pandas as pd\n",
        "from scipy.io.wavfile import write\n",
        "from tqdm import tqdm\n",
        "\n",
        "# Set the backend to 'sox_io' or 'soundfile'\n",
        "torchaudio.set_audio_backend(\"sox_io\")\n"
      ]
    },
    {
      "cell_type": "code",
      "source": [
        "!pip install accelerate -U"
      ],
      "metadata": {
        "colab": {
          "base_uri": "https://localhost:8080/"
        },
        "collapsed": true,
        "id": "YEfkFaF1CEdn",
        "outputId": "ab31be8f-fb7e-4008-d4bf-b7284cc29a76"
      },
      "execution_count": null,
      "outputs": [
        {
          "output_type": "stream",
          "name": "stdout",
          "text": [
            "Collecting accelerate\n",
            "  Downloading accelerate-0.32.0-py3-none-any.whl (314 kB)\n",
            "\u001b[?25l     \u001b[90m━━━━━━━━━━━━━━━━━━━━━━━━━━━━━━━━━━━━━━━━\u001b[0m \u001b[32m0.0/314.0 kB\u001b[0m \u001b[31m?\u001b[0m eta \u001b[36m-:--:--\u001b[0m\r\u001b[2K     \u001b[91m━━━━━━━━━━━━━━━━━━\u001b[0m\u001b[90m╺\u001b[0m\u001b[90m━━━━━━━━━━━━━━━━━━━━━\u001b[0m \u001b[32m143.4/314.0 kB\u001b[0m \u001b[31m3.9 MB/s\u001b[0m eta \u001b[36m0:00:01\u001b[0m\r\u001b[2K     \u001b[90m━━━━━━━━━━━━━━━━━━━━━━━━━━━━━━━━━━━━━━━━\u001b[0m \u001b[32m314.0/314.0 kB\u001b[0m \u001b[31m4.6 MB/s\u001b[0m eta \u001b[36m0:00:00\u001b[0m\n",
            "\u001b[?25hRequirement already satisfied: numpy<2.0.0,>=1.17 in /usr/local/lib/python3.10/dist-packages (from accelerate) (1.25.2)\n",
            "Requirement already satisfied: packaging>=20.0 in /usr/local/lib/python3.10/dist-packages (from accelerate) (24.1)\n",
            "Requirement already satisfied: psutil in /usr/local/lib/python3.10/dist-packages (from accelerate) (5.9.5)\n",
            "Requirement already satisfied: pyyaml in /usr/local/lib/python3.10/dist-packages (from accelerate) (6.0.1)\n",
            "Requirement already satisfied: torch>=1.10.0 in /usr/local/lib/python3.10/dist-packages (from accelerate) (2.3.0+cu121)\n",
            "Requirement already satisfied: huggingface-hub in /usr/local/lib/python3.10/dist-packages (from accelerate) (0.23.4)\n",
            "Requirement already satisfied: safetensors>=0.3.1 in /usr/local/lib/python3.10/dist-packages (from accelerate) (0.4.3)\n",
            "Requirement already satisfied: filelock in /usr/local/lib/python3.10/dist-packages (from torch>=1.10.0->accelerate) (3.15.4)\n",
            "Requirement already satisfied: typing-extensions>=4.8.0 in /usr/local/lib/python3.10/dist-packages (from torch>=1.10.0->accelerate) (4.12.2)\n",
            "Requirement already satisfied: sympy in /usr/local/lib/python3.10/dist-packages (from torch>=1.10.0->accelerate) (1.12.1)\n",
            "Requirement already satisfied: networkx in /usr/local/lib/python3.10/dist-packages (from torch>=1.10.0->accelerate) (3.3)\n",
            "Requirement already satisfied: jinja2 in /usr/local/lib/python3.10/dist-packages (from torch>=1.10.0->accelerate) (3.1.4)\n",
            "Requirement already satisfied: fsspec in /usr/local/lib/python3.10/dist-packages (from torch>=1.10.0->accelerate) (2023.6.0)\n",
            "Collecting nvidia-cuda-nvrtc-cu12==12.1.105 (from torch>=1.10.0->accelerate)\n",
            "  Using cached nvidia_cuda_nvrtc_cu12-12.1.105-py3-none-manylinux1_x86_64.whl (23.7 MB)\n",
            "Collecting nvidia-cuda-runtime-cu12==12.1.105 (from torch>=1.10.0->accelerate)\n",
            "  Using cached nvidia_cuda_runtime_cu12-12.1.105-py3-none-manylinux1_x86_64.whl (823 kB)\n",
            "Collecting nvidia-cuda-cupti-cu12==12.1.105 (from torch>=1.10.0->accelerate)\n",
            "  Using cached nvidia_cuda_cupti_cu12-12.1.105-py3-none-manylinux1_x86_64.whl (14.1 MB)\n",
            "Collecting nvidia-cudnn-cu12==8.9.2.26 (from torch>=1.10.0->accelerate)\n",
            "  Using cached nvidia_cudnn_cu12-8.9.2.26-py3-none-manylinux1_x86_64.whl (731.7 MB)\n",
            "Collecting nvidia-cublas-cu12==12.1.3.1 (from torch>=1.10.0->accelerate)\n",
            "  Using cached nvidia_cublas_cu12-12.1.3.1-py3-none-manylinux1_x86_64.whl (410.6 MB)\n",
            "Collecting nvidia-cufft-cu12==11.0.2.54 (from torch>=1.10.0->accelerate)\n",
            "  Using cached nvidia_cufft_cu12-11.0.2.54-py3-none-manylinux1_x86_64.whl (121.6 MB)\n",
            "Collecting nvidia-curand-cu12==10.3.2.106 (from torch>=1.10.0->accelerate)\n",
            "  Using cached nvidia_curand_cu12-10.3.2.106-py3-none-manylinux1_x86_64.whl (56.5 MB)\n",
            "Collecting nvidia-cusolver-cu12==11.4.5.107 (from torch>=1.10.0->accelerate)\n",
            "  Using cached nvidia_cusolver_cu12-11.4.5.107-py3-none-manylinux1_x86_64.whl (124.2 MB)\n",
            "Collecting nvidia-cusparse-cu12==12.1.0.106 (from torch>=1.10.0->accelerate)\n",
            "  Using cached nvidia_cusparse_cu12-12.1.0.106-py3-none-manylinux1_x86_64.whl (196.0 MB)\n",
            "Collecting nvidia-nccl-cu12==2.20.5 (from torch>=1.10.0->accelerate)\n",
            "  Using cached nvidia_nccl_cu12-2.20.5-py3-none-manylinux2014_x86_64.whl (176.2 MB)\n",
            "Collecting nvidia-nvtx-cu12==12.1.105 (from torch>=1.10.0->accelerate)\n",
            "  Using cached nvidia_nvtx_cu12-12.1.105-py3-none-manylinux1_x86_64.whl (99 kB)\n",
            "Requirement already satisfied: triton==2.3.0 in /usr/local/lib/python3.10/dist-packages (from torch>=1.10.0->accelerate) (2.3.0)\n",
            "Collecting nvidia-nvjitlink-cu12 (from nvidia-cusolver-cu12==11.4.5.107->torch>=1.10.0->accelerate)\n",
            "  Downloading nvidia_nvjitlink_cu12-12.5.82-py3-none-manylinux2014_x86_64.whl (21.3 MB)\n",
            "\u001b[2K     \u001b[90m━━━━━━━━━━━━━━━━━━━━━━━━━━━━━━━━━━━━━━━━\u001b[0m \u001b[32m21.3/21.3 MB\u001b[0m \u001b[31m53.7 MB/s\u001b[0m eta \u001b[36m0:00:00\u001b[0m\n",
            "\u001b[?25hRequirement already satisfied: requests in /usr/local/lib/python3.10/dist-packages (from huggingface-hub->accelerate) (2.31.0)\n",
            "Requirement already satisfied: tqdm>=4.42.1 in /usr/local/lib/python3.10/dist-packages (from huggingface-hub->accelerate) (4.66.4)\n",
            "Requirement already satisfied: MarkupSafe>=2.0 in /usr/local/lib/python3.10/dist-packages (from jinja2->torch>=1.10.0->accelerate) (2.1.5)\n",
            "Requirement already satisfied: charset-normalizer<4,>=2 in /usr/local/lib/python3.10/dist-packages (from requests->huggingface-hub->accelerate) (3.3.2)\n",
            "Requirement already satisfied: idna<4,>=2.5 in /usr/local/lib/python3.10/dist-packages (from requests->huggingface-hub->accelerate) (3.7)\n",
            "Requirement already satisfied: urllib3<3,>=1.21.1 in /usr/local/lib/python3.10/dist-packages (from requests->huggingface-hub->accelerate) (2.0.7)\n",
            "Requirement already satisfied: certifi>=2017.4.17 in /usr/local/lib/python3.10/dist-packages (from requests->huggingface-hub->accelerate) (2024.6.2)\n",
            "Requirement already satisfied: mpmath<1.4.0,>=1.1.0 in /usr/local/lib/python3.10/dist-packages (from sympy->torch>=1.10.0->accelerate) (1.3.0)\n",
            "Installing collected packages: nvidia-nvtx-cu12, nvidia-nvjitlink-cu12, nvidia-nccl-cu12, nvidia-curand-cu12, nvidia-cufft-cu12, nvidia-cuda-runtime-cu12, nvidia-cuda-nvrtc-cu12, nvidia-cuda-cupti-cu12, nvidia-cublas-cu12, nvidia-cusparse-cu12, nvidia-cudnn-cu12, nvidia-cusolver-cu12, accelerate\n",
            "Successfully installed accelerate-0.32.0 nvidia-cublas-cu12-12.1.3.1 nvidia-cuda-cupti-cu12-12.1.105 nvidia-cuda-nvrtc-cu12-12.1.105 nvidia-cuda-runtime-cu12-12.1.105 nvidia-cudnn-cu12-8.9.2.26 nvidia-cufft-cu12-11.0.2.54 nvidia-curand-cu12-10.3.2.106 nvidia-cusolver-cu12-11.4.5.107 nvidia-cusparse-cu12-12.1.0.106 nvidia-nccl-cu12-2.20.5 nvidia-nvjitlink-cu12-12.5.82 nvidia-nvtx-cu12-12.1.105\n"
          ]
        }
      ]
    },
    {
      "cell_type": "markdown",
      "source": [
        "- OPCIONAL"
      ],
      "metadata": {
        "id": "_4EcEZJb3D_a"
      }
    },
    {
      "cell_type": "code",
      "source": [
        "!pip install jiwer"
      ],
      "metadata": {
        "colab": {
          "base_uri": "https://localhost:8080/"
        },
        "collapsed": true,
        "id": "my1XBi6C29ml",
        "outputId": "23208ffa-d5af-45b8-dd04-1a5cbe04ffbe"
      },
      "execution_count": null,
      "outputs": [
        {
          "output_type": "stream",
          "name": "stdout",
          "text": [
            "Collecting jiwer\n",
            "  Downloading jiwer-3.0.4-py3-none-any.whl (21 kB)\n",
            "Requirement already satisfied: click<9.0.0,>=8.1.3 in /usr/local/lib/python3.10/dist-packages (from jiwer) (8.1.7)\n",
            "Collecting rapidfuzz<4,>=3 (from jiwer)\n",
            "  Downloading rapidfuzz-3.9.4-cp310-cp310-manylinux_2_17_x86_64.manylinux2014_x86_64.whl (3.4 MB)\n",
            "\u001b[2K     \u001b[90m━━━━━━━━━━━━━━━━━━━━━━━━━━━━━━━━━━━━━━━━\u001b[0m \u001b[32m3.4/3.4 MB\u001b[0m \u001b[31m16.0 MB/s\u001b[0m eta \u001b[36m0:00:00\u001b[0m\n",
            "\u001b[?25hInstalling collected packages: rapidfuzz, jiwer\n",
            "Successfully installed jiwer-3.0.4 rapidfuzz-3.9.4\n"
          ]
        }
      ]
    },
    {
      "cell_type": "code",
      "source": [
        "import jiwer"
      ],
      "metadata": {
        "id": "oOb3ueuB3CdO"
      },
      "execution_count": null,
      "outputs": []
    },
    {
      "cell_type": "markdown",
      "source": [
        "# Dados"
      ],
      "metadata": {
        "id": "m7PGW_cvypHZ"
      }
    },
    {
      "cell_type": "markdown",
      "source": [
        "Aqui vamos importar dois datasets processados manualmente.\n",
        "\n",
        "1. Os dados de áudio: Este aquivo zip contém os áudios brutos que seram acessados pelo treinamento. Ele é subdividado por pessoa e por classe.\n",
        "\n",
        "2. Caminhos e Transcrições: Este arquivo .csv contém os \"paths\" de todos os áudios juntamente com a transcrição e classe que eles pertencem."
      ],
      "metadata": {
        "id": "lsIzY4UJ3SEs"
      }
    },
    {
      "cell_type": "code",
      "source": [
        "!gdown 1IVfFb7klGmfEckV7YkXF8Rqpd46aJGPI # dados de audio\n",
        "!gdown 1W6xAJFeNTArzH0iTGaoHDs87RBmLk1JL # Caminhos e Transcrições"
      ],
      "metadata": {
        "colab": {
          "base_uri": "https://localhost:8080/"
        },
        "collapsed": true,
        "id": "7Mtc3o_KyqtM",
        "outputId": "b863de62-1322-464a-dce3-a4f0162e23c6"
      },
      "execution_count": null,
      "outputs": [
        {
          "output_type": "stream",
          "name": "stdout",
          "text": [
            "Downloading...\n",
            "From (original): https://drive.google.com/uc?id=1IVfFb7klGmfEckV7YkXF8Rqpd46aJGPI\n",
            "From (redirected): https://drive.google.com/uc?id=1IVfFb7klGmfEckV7YkXF8Rqpd46aJGPI&confirm=t&uuid=385f59d1-ede1-45fb-b33e-c47bfc188980\n",
            "To: /content/Dados_wav.zip\n",
            "100% 158M/158M [00:01<00:00, 143MB/s]\n",
            "Downloading...\n",
            "From: https://drive.google.com/uc?id=1W6xAJFeNTArzH0iTGaoHDs87RBmLk1JL\n",
            "To: /content/audio_data.csv\n",
            "100% 166k/166k [00:00<00:00, 118MB/s]\n"
          ]
        }
      ]
    },
    {
      "cell_type": "code",
      "source": [
        "%%capture\n",
        "!unzip /content/Dados_wav.zip"
      ],
      "metadata": {
        "id": "uAGv4Op41I6m"
      },
      "execution_count": null,
      "outputs": []
    },
    {
      "cell_type": "markdown",
      "source": [],
      "metadata": {
        "id": "R1VM9yZHXYaU"
      }
    },
    {
      "cell_type": "code",
      "source": [
        "df = pd.read_csv(\"/content/audio_data.csv\")"
      ],
      "metadata": {
        "id": "jclUpHVBzO-o"
      },
      "execution_count": null,
      "outputs": []
    },
    {
      "cell_type": "markdown",
      "source": [
        "## Limpeza"
      ],
      "metadata": {
        "id": "ag17NE9Z1wj9"
      }
    },
    {
      "cell_type": "markdown",
      "source": [
        "- Consertar o caminho\n",
        "\n",
        "Como processei esses dados no meu PC local, o Path nele tá específico pro meu PC. Aqui vamos remover esse problema."
      ],
      "metadata": {
        "id": "NtZkySnt1T12"
      }
    },
    {
      "cell_type": "code",
      "source": [
        "# Modify each path in df. Remove the first 55 characters and add /content/Dados_wav/ at the beggining\n",
        "df['path'] = df['path'].apply(lambda x: '/content/'+ x[55:])"
      ],
      "metadata": {
        "id": "kVuESupuzqb6"
      },
      "execution_count": null,
      "outputs": []
    },
    {
      "cell_type": "markdown",
      "source": [
        "- Tirar transcrições falhas\n",
        "\n",
        "Algumas transcrições falharam. Aqui estou tirando elas."
      ],
      "metadata": {
        "id": "JmjnB7eB1zGu"
      }
    },
    {
      "cell_type": "code",
      "source": [
        "cleaned_df = df[df['transcription'] != 'Transcription failed']\n",
        "cleaned_df.shape"
      ],
      "metadata": {
        "colab": {
          "base_uri": "https://localhost:8080/"
        },
        "id": "6fK8RxZX11rN",
        "outputId": "4a4d6168-43f8-4764-cf53-7997bea636ce"
      },
      "execution_count": null,
      "outputs": [
        {
          "output_type": "execute_result",
          "data": {
            "text/plain": [
              "(1190, 3)"
            ]
          },
          "metadata": {},
          "execution_count": 12
        }
      ]
    },
    {
      "cell_type": "code",
      "source": [
        "# Desencargo de consciência\n",
        "\n",
        "path = df['path'][800]\n",
        "\n",
        "waveform, sample_rate = torchaudio.load(path)\n",
        "print(sample_rate)\n"
      ],
      "metadata": {
        "colab": {
          "base_uri": "https://localhost:8080/"
        },
        "id": "IoyVuANz1apB",
        "outputId": "79443913-abc4-4135-aca6-5e380b84d4b2"
      },
      "execution_count": null,
      "outputs": [
        {
          "output_type": "stream",
          "name": "stdout",
          "text": [
            "48000\n"
          ]
        }
      ]
    },
    {
      "cell_type": "markdown",
      "source": [
        "- Encontrar maior áudio"
      ],
      "metadata": {
        "id": "QSVwWqpE1qV1"
      }
    },
    {
      "cell_type": "code",
      "source": [
        "import torchaudio\n",
        "from tqdm import tqdm\n",
        "\n",
        "def find_longest_audio_length(df):\n",
        "    max_length = 0\n",
        "    for _, row in tqdm(df.iterrows(), total=df.shape[0]):\n",
        "        audio_path = row['path']\n",
        "        waveform, sample_rate = torchaudio.load(audio_path)\n",
        "        length = waveform.shape[1]\n",
        "        if length > max_length:\n",
        "            max_length = length\n",
        "    return max_length\n",
        "\n",
        "# Find the longest audio length in the dataset\n",
        "LONGEST_LENGTH = find_longest_audio_length(cleaned_df)\n",
        "print(f\"The longest audio length is: {LONGEST_LENGTH}\")\n"
      ],
      "metadata": {
        "colab": {
          "base_uri": "https://localhost:8080/"
        },
        "id": "0IRK1y6v1qBx",
        "outputId": "c8defba6-fdea-4a00-f963-4d7e8835e26c"
      },
      "execution_count": null,
      "outputs": [
        {
          "output_type": "stream",
          "name": "stderr",
          "text": [
            "100%|██████████| 1190/1190 [00:13<00:00, 87.10it/s] "
          ]
        },
        {
          "output_type": "stream",
          "name": "stdout",
          "text": [
            "The longest audio length is: 144648\n"
          ]
        },
        {
          "output_type": "stream",
          "name": "stderr",
          "text": [
            "\n"
          ]
        }
      ]
    },
    {
      "cell_type": "code",
      "source": [
        "LONGEST_LENGTH = 144648"
      ],
      "metadata": {
        "id": "FCNeyaW5BdXP"
      },
      "execution_count": null,
      "outputs": []
    },
    {
      "cell_type": "markdown",
      "metadata": {
        "id": "GOE_4BaFPgEB"
      },
      "source": [
        "## Aumento de dados"
      ]
    },
    {
      "cell_type": "code",
      "execution_count": null,
      "metadata": {
        "colab": {
          "base_uri": "https://localhost:8080/"
        },
        "id": "xASGBMpEfZVQ",
        "outputId": "2c1513f5-4c95-45fe-df8f-d60e5f65456e"
      },
      "outputs": [
        {
          "output_type": "stream",
          "name": "stdout",
          "text": [
            "Downloading...\n",
            "From: https://drive.google.com/uc?id=1FERZhKvNKcdpFGdEhSL7Uq3EcIU8k7Qd\n",
            "To: /content/bg_noises.zip\n",
            "\r  0% 0.00/3.45M [00:00<?, ?B/s]\r100% 3.45M/3.45M [00:00<00:00, 179MB/s]\n"
          ]
        }
      ],
      "source": [
        "!gdown 1FERZhKvNKcdpFGdEhSL7Uq3EcIU8k7Qd"
      ]
    },
    {
      "cell_type": "code",
      "execution_count": null,
      "metadata": {
        "colab": {
          "base_uri": "https://localhost:8080/"
        },
        "id": "TIEwx00mfjE7",
        "outputId": "3820e48f-dac9-4f2a-cbff-e7500ece4ac2"
      },
      "outputs": [
        {
          "output_type": "stream",
          "name": "stdout",
          "text": [
            "Archive:  /content/bg_noises.zip\n",
            "  inflating: bg_noises/ruido_1.wav   \n",
            "  inflating: bg_noises/ruido_2.wav   \n"
          ]
        }
      ],
      "source": [
        "!unzip /content/bg_noises.zip"
      ]
    },
    {
      "cell_type": "code",
      "execution_count": null,
      "metadata": {
        "id": "N3FR4RN9SBJ5"
      },
      "outputs": [],
      "source": [
        "%%capture\n",
        "!pip install librosa==0.9.0 audiomentations datasets torchinfo"
      ]
    },
    {
      "cell_type": "code",
      "execution_count": null,
      "metadata": {
        "id": "yXYXWD1iU9AI"
      },
      "outputs": [],
      "source": [
        "def data_aug(dataset, aug_function):\n",
        "    new_file_names = []\n",
        "    new_labels = []\n",
        "    transcriptions = []\n",
        "\n",
        "    for index, row in tqdm(dataset.iterrows(), total=dataset.shape[0]):\n",
        "        file_path = os.path.join(row['path'])\n",
        "        audio, sr = librosa.load(file_path, sr=None)\n",
        "        noise_folder = os.path.dirname(file_path)\n",
        "\n",
        "        augmented_audio, name = aug_function(audio, sample_rate=sr)\n",
        "\n",
        "        new_file_name = f\"{os.path.dirname(file_path)}/{name}_{index}_aug.wav\"\n",
        "\n",
        "        if not os.path.exists(new_file_name):\n",
        "            new_file_names.append(new_file_name)\n",
        "            new_labels.append(row['class'])\n",
        "            transcriptions.append(row['transcription'])\n",
        "\n",
        "            write(os.path.join(new_file_name), sr, (augmented_audio * 32767).astype(np.int16))\n",
        "\n",
        "    aug_data = pd.DataFrame()\n",
        "    aug_data['path'] = new_file_names\n",
        "    aug_data['class'] = new_labels\n",
        "    aug_data['transcription'] = transcriptions\n",
        "\n",
        "    return aug_data\n"
      ]
    },
    {
      "cell_type": "code",
      "execution_count": null,
      "metadata": {
        "id": "W8ceosNvlqBt"
      },
      "outputs": [],
      "source": [
        "def augment_audio_with_background_noise(audio, sample_rate, noise_folder = '/content/bg_noises'):\n",
        "    name = 'background_noise'\n",
        "    background_noise_files = os.listdir(noise_folder)\n",
        "    noise_file = os.path.join(noise_folder, np.random.choice(background_noise_files))\n",
        "    noise_audio, _ = librosa.load(noise_file, sr=sample_rate)\n",
        "    background_noise_aug = AddBackgroundNoise(sounds_path=noise_folder, p=1.0)\n",
        "    augmented_audio = background_noise_aug(audio, sample_rate=sample_rate)\n",
        "    return augmented_audio, name\n",
        "\n",
        "def augment_audio_with_tanh_distortion(audio, sample_rate):\n",
        "    name = 'tanh_distortion'\n",
        "    tanh_dist_aug = TanhDistortion(p=1.0)\n",
        "    augmented_audio = tanh_dist_aug(audio, sample_rate=sample_rate)\n",
        "    return augmented_audio, name\n",
        "\n",
        "def augment_audio_with_spec_frequency_mask(audio, sample_rate):\n",
        "    name = 'spec_frequency_mask'\n",
        "    spec_aug = SpecFrequencyMask()\n",
        "    augmented_audio = spec_aug(audio)\n",
        "    return augmented_audio, name\n",
        "\n",
        "def augment_audio_with_pitch_shift(audio, sample_rate):\n",
        "    name = 'pitch_shift'\n",
        "    pitch_shift_aug = PitchShift(p=1.0)\n",
        "    augmented_audio = pitch_shift_aug(audio, sample_rate=sample_rate)\n",
        "    return augmented_audio, name\n",
        "\n",
        "def augment_audio_with_time_mask(audio, sample_rate):\n",
        "    name = 'time_mask'\n",
        "    time_mask_aug = TimeMask(min_band_part=0.1, max_band_part=0.15, fade=True, p=1.0)\n",
        "    augmented_audio = time_mask_aug(audio, sample_rate=sample_rate)\n",
        "    return augmented_audio, name"
      ]
    },
    {
      "cell_type": "code",
      "execution_count": null,
      "metadata": {
        "colab": {
          "base_uri": "https://localhost:8080/"
        },
        "id": "p4-E6MtDVlQd",
        "outputId": "c9bdbc9f-9dc5-46f0-9e71-1bd35e42d55c"
      },
      "outputs": [
        {
          "output_type": "stream",
          "name": "stderr",
          "text": [
            "100%|██████████| 1190/1190 [00:13<00:00, 88.17it/s] \n",
            "100%|██████████| 1190/1190 [00:03<00:00, 365.36it/s]\n",
            "100%|██████████| 1190/1190 [00:55<00:00, 21.54it/s]\n",
            "100%|██████████| 1190/1190 [00:00<00:00, 1234.68it/s]\n"
          ]
        }
      ],
      "source": [
        "aug1_data = data_aug(cleaned_df, augment_audio_with_background_noise)\n",
        "aug2_data = data_aug(cleaned_df, augment_audio_with_tanh_distortion)\n",
        "# aug3_data = data_aug(cleaned_df, augment_audio_with_spec_frequency_mask) -> Esse tá dando problema\n",
        "aug4_data = data_aug(cleaned_df, augment_audio_with_pitch_shift)\n",
        "aug5_data = data_aug(cleaned_df, augment_audio_with_time_mask)"
      ]
    },
    {
      "cell_type": "code",
      "execution_count": null,
      "metadata": {
        "colab": {
          "base_uri": "https://localhost:8080/"
        },
        "id": "aOjVo6XDxoxu",
        "outputId": "9002d0aa-db93-4a75-b55a-18f46aa7daba"
      },
      "outputs": [
        {
          "output_type": "stream",
          "name": "stdout",
          "text": [
            "Número total de amostras após o aumento de dados: 1190\n"
          ]
        }
      ],
      "source": [
        "cleaned_aug_df = pd.concat([cleaned_df, aug1_data])\n",
        "cleaned_aug_df = pd.concat([cleaned_df, aug2_data])\n",
        "# cleaned_aug_df = pd.concat([cleaned_aug_df, aug3_data])\n",
        "cleaned_aug_df = pd.concat([cleaned_aug_df, aug4_data])\n",
        "cleaned_aug_df = pd.concat([cleaned_aug_df, aug5_data])\n",
        "\n",
        "print(\"Número total de amostras após o aumento de dados:\", len(cleaned_aug_df))"
      ]
    },
    {
      "cell_type": "code",
      "source": [
        "cleaned_aug_df.isna().sum()"
      ],
      "metadata": {
        "colab": {
          "base_uri": "https://localhost:8080/"
        },
        "id": "We44atRuukqy",
        "outputId": "b0740527-544e-4148-e033-e8cf60cb659d"
      },
      "execution_count": null,
      "outputs": [
        {
          "output_type": "execute_result",
          "data": {
            "text/plain": [
              "path             0\n",
              "transcription    0\n",
              "class            0\n",
              "dtype: int64"
            ]
          },
          "metadata": {},
          "execution_count": 48
        }
      ]
    },
    {
      "cell_type": "markdown",
      "metadata": {
        "id": "A-BHQQZ0WJ8D"
      },
      "source": [
        "## Separação de treino e teste"
      ]
    },
    {
      "cell_type": "code",
      "execution_count": null,
      "metadata": {
        "id": "4YN2xWDPWOcd"
      },
      "outputs": [],
      "source": [
        "# prompt: Split cleaned_aug_df into train and test. Make sure there are no augmentated data on the test dataset. Every augmented data has \"aug.wav\" ending. Include a portion of the not augmentated data on train as well\n",
        "\n",
        "train_df = cleaned_aug_df[cleaned_aug_df['path'].str.contains(\"aug.wav\")].sample(frac=0.8, random_state=24)\n",
        "test_df = cleaned_aug_df[~cleaned_aug_df['path'].str.contains(\"aug.wav\")]\n",
        "train_df = pd.concat([train_df, cleaned_aug_df[~cleaned_aug_df['path'].str.contains(\"aug.wav\")].sample(frac=0.2, random_state=24)])\n"
      ]
    },
    {
      "cell_type": "markdown",
      "source": [
        "# Models"
      ],
      "metadata": {
        "id": "LR78eHtGZW4U"
      }
    },
    {
      "cell_type": "markdown",
      "source": [
        "- Importar modelos"
      ],
      "metadata": {
        "id": "GRVWd-sOfNON"
      }
    },
    {
      "cell_type": "code",
      "source": [
        "# Initialize the processor and model\n",
        "processor = Wav2Vec2Processor.from_pretrained(\"facebook/wav2vec2-large-xlsr-53-portuguese\")\n",
        "model = Wav2Vec2ForCTC.from_pretrained(\"facebook/wav2vec2-large-xlsr-53-portuguese\").to(\"cuda\")\n"
      ],
      "metadata": {
        "colab": {
          "base_uri": "https://localhost:8080/",
          "height": 318,
          "referenced_widgets": [
            "06aa8ea6b7f7407481fefe4d47361654",
            "b0425b90e2264fad834bbcc72bf0e47c",
            "274bfb8400b748a0903f6ff3127385db",
            "83e94c8d0e684e1482d0220addbc797b",
            "a3040ac20c5c4ef484b8e881bb15767b",
            "ce2419d7cb344d439482b71edb98f569",
            "b161f1e6ea6b45b3a534b8b86ea7f8e1",
            "3bb452dc135b4fc490b859626b89d163",
            "dade58b58641450c87ab40c3a14a3ff9",
            "3d31df650787423e9bd703233680b988",
            "7320cc84377b47c5833f333ac5040957",
            "a1b206db57b64f6f90719ef449dd45ad",
            "4074b128bdda46739d44faf45cea3e2d",
            "238f2828a4024591aaf8b1f5b0d65a9f",
            "23540bb6dd2f4a3992c9d962c8696c2d",
            "2309d0018db54061b1991836c6f4419a",
            "5b47f6345a8c46b095bbfc774c2163cd",
            "00070f93d7144e8495820f083993bd7d",
            "5d79cff1fb0c4b9080468e7c32b5fe9e",
            "b6b7bb8c5568409caa5a4ab8431108f8",
            "abacef4c26f640e7bc10d98de98c8c73",
            "c41cba5138224d0fa3b89dfd91755f35",
            "a38058b83461454d8be3a15af44ccf4c",
            "efc3a326d92b4d38bad546b52908d824",
            "4c562608ae5846b2b9902d42b65705f2",
            "82cc8c089e63458f98b90bab6af6fa3d",
            "8e5d7da69ffe4230bedfbc1b416d89bb",
            "c5f8f0784f5d40a48e502883214cd9f2",
            "2cd84eb88022470c8ee84ce31ce27631",
            "0a0defe0110e4a70bb92a644bb6015c9",
            "fef7c09d7a524ecb923e20e29429def6",
            "cd60831cac86446cb8358904e3a4a0ab",
            "cbcbe5dbf403443696b987b2161f68e6",
            "9b1c4b0f6e4e430489015e7b3de9b9b1",
            "a1cfb2baf6eb40b7a5cee156070eb88d",
            "39c1162937344e83aa3bbba9cf00a754",
            "281eb8c85e6e4bf5ac6b95159dbe38ce",
            "ffd69a55ba7a423e8b31c39cdd4253aa",
            "634e65cd85c94ee8b822ff40127de099",
            "ae0106f49b1c47f28e1b357d5e5591b3",
            "1cb998aa459145a5afbaca97ef2460fd",
            "5c09b1aefa7e4ff483729179a35fec8d",
            "4bca006a63a141f29883580a9ba7bba6",
            "e6943542b5394dac96cc7568e29413ca",
            "bf4b63d1bd954981ab546898871e2cbe",
            "eaf24f47596e43fd919356ab754e9548",
            "ced14ad27b0e406ca76c37055229391d",
            "5357eea0a5764a3eb7ff68dfcd8e8b7f",
            "260e2b76f7814cde909e359e741804e3",
            "44cac8826f2c44c59ee6c2090aca31fb",
            "7f424a24faa645b694575180686ff08c",
            "6bf99445fc594d40b40343930537c369",
            "2c679a77350343e9866b4bf0477a57be",
            "2e485886834748818b0d1dc39637add3",
            "19ddd60a08754a718abcd8b66753db4a",
            "adf744159c2f42e38a931636e34ad6c4",
            "f3ef8bf431944ae7b410ad1002689589",
            "6fbc8799fc5b4039935a08abec63d7c1",
            "6c1c4683692241f5950197990823ea29",
            "0128a5f3657a4510829479be2aa5890b",
            "2e9ae3293b28462db1d0cdcb8b7f07c5",
            "2f40a83aa59b42c6b34a591638818a16",
            "757027702b06400e9c38fb02a009799f",
            "4c3ee9f2e9b44c86aece2fceb7d7f4bb",
            "a7430544dca24265a3cfbb8437c96a73",
            "698f50fe5b844c328a8ec575aab5d8fd"
          ]
        },
        "collapsed": true,
        "id": "cV3rxPHmAAp8",
        "outputId": "76ec2d09-075d-4ff6-9a88-cfae19d1290d"
      },
      "execution_count": null,
      "outputs": [
        {
          "output_type": "display_data",
          "data": {
            "text/plain": [
              "preprocessor_config.json:   0%|          | 0.00/158 [00:00<?, ?B/s]"
            ],
            "application/vnd.jupyter.widget-view+json": {
              "version_major": 2,
              "version_minor": 0,
              "model_id": "06aa8ea6b7f7407481fefe4d47361654"
            }
          },
          "metadata": {}
        },
        {
          "output_type": "display_data",
          "data": {
            "text/plain": [
              "tokenizer_config.json:   0%|          | 0.00/386 [00:00<?, ?B/s]"
            ],
            "application/vnd.jupyter.widget-view+json": {
              "version_major": 2,
              "version_minor": 0,
              "model_id": "a1b206db57b64f6f90719ef449dd45ad"
            }
          },
          "metadata": {}
        },
        {
          "output_type": "display_data",
          "data": {
            "text/plain": [
              "config.json:   0%|          | 0.00/1.29k [00:00<?, ?B/s]"
            ],
            "application/vnd.jupyter.widget-view+json": {
              "version_major": 2,
              "version_minor": 0,
              "model_id": "a38058b83461454d8be3a15af44ccf4c"
            }
          },
          "metadata": {}
        },
        {
          "output_type": "display_data",
          "data": {
            "text/plain": [
              "vocab.json:   0%|          | 0.00/440 [00:00<?, ?B/s]"
            ],
            "application/vnd.jupyter.widget-view+json": {
              "version_major": 2,
              "version_minor": 0,
              "model_id": "9b1c4b0f6e4e430489015e7b3de9b9b1"
            }
          },
          "metadata": {}
        },
        {
          "output_type": "display_data",
          "data": {
            "text/plain": [
              "special_tokens_map.json:   0%|          | 0.00/85.0 [00:00<?, ?B/s]"
            ],
            "application/vnd.jupyter.widget-view+json": {
              "version_major": 2,
              "version_minor": 0,
              "model_id": "bf4b63d1bd954981ab546898871e2cbe"
            }
          },
          "metadata": {}
        },
        {
          "output_type": "display_data",
          "data": {
            "text/plain": [
              "pytorch_model.bin:   0%|          | 0.00/1.26G [00:00<?, ?B/s]"
            ],
            "application/vnd.jupyter.widget-view+json": {
              "version_major": 2,
              "version_minor": 0,
              "model_id": "adf744159c2f42e38a931636e34ad6c4"
            }
          },
          "metadata": {}
        },
        {
          "output_type": "stream",
          "name": "stderr",
          "text": [
            "Some weights of the model checkpoint at facebook/wav2vec2-large-xlsr-53-portuguese were not used when initializing Wav2Vec2ForCTC: ['wav2vec2.encoder.pos_conv_embed.conv.weight_g', 'wav2vec2.encoder.pos_conv_embed.conv.weight_v']\n",
            "- This IS expected if you are initializing Wav2Vec2ForCTC from the checkpoint of a model trained on another task or with another architecture (e.g. initializing a BertForSequenceClassification model from a BertForPreTraining model).\n",
            "- This IS NOT expected if you are initializing Wav2Vec2ForCTC from the checkpoint of a model that you expect to be exactly identical (initializing a BertForSequenceClassification model from a BertForSequenceClassification model).\n",
            "Some weights of Wav2Vec2ForCTC were not initialized from the model checkpoint at facebook/wav2vec2-large-xlsr-53-portuguese and are newly initialized: ['wav2vec2.encoder.pos_conv_embed.conv.parametrizations.weight.original0', 'wav2vec2.encoder.pos_conv_embed.conv.parametrizations.weight.original1']\n",
            "You should probably TRAIN this model on a down-stream task to be able to use it for predictions and inference.\n"
          ]
        }
      ]
    },
    {
      "cell_type": "markdown",
      "source": [
        "## Functions"
      ],
      "metadata": {
        "id": "ayYNph1xDOmo"
      }
    },
    {
      "cell_type": "markdown",
      "source": [
        "Esta função são responsáveis por processar os áudios e extrair as features necessárias."
      ],
      "metadata": {
        "id": "ACVTNsFCfPJm"
      }
    },
    {
      "cell_type": "code",
      "source": [
        "def pad_waveform(waveform, target_length):\n",
        "    current_length = waveform.shape[1]\n",
        "    if current_length < target_length:\n",
        "        padding = target_length - current_length\n",
        "        waveform = torch.nn.functional.pad(waveform, (0, padding), \"constant\", 0)\n",
        "    return waveform\n",
        "\n",
        "def extract_features(audio_file, target_length=LONGEST_LENGTH):  # Example target length: 10 seconds\n",
        "    # Load audio file\n",
        "    waveform, sample_rate = torchaudio.load(audio_file)\n",
        "\n",
        "    # Pad waveform to ensure consistent length\n",
        "    waveform = pad_waveform(waveform, target_length)\n",
        "\n",
        "    # Process the waveform to match the model's expected input\n",
        "    input_values = processor(waveform.squeeze().numpy(), sampling_rate=sample_rate, return_tensors=\"pt\", padding=True).input_values\n",
        "\n",
        "    return input_values\n",
        "\n",
        "def collate_fn(batch):\n",
        "    input_values = [item[0] for item in batch]\n",
        "    labels = [item[1] for item in batch]\n",
        "    transcriptions = [item[2] for item in batch]\n",
        "\n",
        "    # Pad input_values and labels\n",
        "    input_values = torch.nn.utils.rnn.pad_sequence(input_values, batch_first=True, padding_value=processor.tokenizer.pad_token_id)\n",
        "    labels = torch.nn.utils.rnn.pad_sequence(labels, batch_first=True, padding_value=processor.tokenizer.pad_token_id)\n",
        "\n",
        "    return input_values, labels, transcriptions\n",
        "\n"
      ],
      "metadata": {
        "id": "P9ZMG8ToDI6z"
      },
      "execution_count": null,
      "outputs": []
    },
    {
      "cell_type": "markdown",
      "source": [
        "## Classes"
      ],
      "metadata": {
        "id": "b9m1TiHlDM7H"
      }
    },
    {
      "cell_type": "markdown",
      "source": [
        "A seguinte classe implementa o dataset no formato desejado para o modelo."
      ],
      "metadata": {
        "id": "UDsUtu_nfWh1"
      }
    },
    {
      "cell_type": "code",
      "source": [
        "import torch\n",
        "from torch.utils.data import Dataset\n",
        "import torchaudio\n",
        "import torchaudio.transforms as T\n",
        "\n",
        "# Assuming `processor` is already defined\n",
        "# processor = ...\n",
        "\n",
        "class ASRDataset(Dataset):\n",
        "    def __init__(self, dataset):\n",
        "        self.dataset = dataset\n",
        "        self.resampler = T.Resample(orig_freq=48000, new_freq=16000)\n",
        "\n",
        "    def __len__(self):\n",
        "        return len(self.dataset)\n",
        "\n",
        "    def __getitem__(self, idx):\n",
        "        audio_path = self.dataset.iloc[idx]['path']\n",
        "        transcription = self.dataset.iloc[idx]['transcription']\n",
        "        waveform, sample_rate = torchaudio.load(audio_path)\n",
        "\n",
        "        if sample_rate != 16000:\n",
        "            waveform = self.resampler(waveform)\n",
        "\n",
        "        input_values = processor(waveform.squeeze().numpy(), sampling_rate=16000, return_tensors='pt').input_values\n",
        "        labels = processor.tokenizer(transcription, return_tensors='pt').input_ids\n",
        "        return input_values.squeeze(), labels.squeeze(), transcription\n",
        "\n"
      ],
      "metadata": {
        "collapsed": true,
        "id": "hk_ogoYoAlYb"
      },
      "execution_count": null,
      "outputs": []
    },
    {
      "cell_type": "markdown",
      "source": [
        "## Train script"
      ],
      "metadata": {
        "id": "-VkMqSBiDRgY"
      }
    },
    {
      "cell_type": "code",
      "source": [
        "# Create train and test dataset objects\n",
        "train_dataset = ASRDataset(train_df)\n",
        "test_dataset = ASRDataset(test_df)"
      ],
      "metadata": {
        "id": "FAPoh4AiDQoj"
      },
      "execution_count": null,
      "outputs": []
    },
    {
      "cell_type": "code",
      "source": [
        "from tqdm import tqdm\n",
        "import torch\n",
        "from torch.utils.data import DataLoader\n",
        "\n",
        "# Create DataLoader for train and test sets with an increased batch size\n",
        "train_loader = DataLoader(train_dataset, batch_size=16, shuffle=True, collate_fn=collate_fn)\n",
        "test_loader = DataLoader(test_dataset, batch_size=16, shuffle=False, collate_fn=collate_fn)\n",
        "\n",
        "num_epochs = 15\n",
        "learning_rate = 1e-5  # Reduced learning rate\n",
        "max_norm = 1.0  # Maximum norm for gradient clipping\n",
        "weight_decay = 1e-2  # Weight decay for regularization\n",
        "\n",
        "optimizer = torch.optim.AdamW(model.parameters(), lr=learning_rate, weight_decay=weight_decay)\n",
        "scheduler = torch.optim.lr_scheduler.StepLR(optimizer, step_size=2, gamma=0.1)  # Learning rate scheduler\n",
        "\n",
        "criterion = torch.nn.CTCLoss(blank=processor.tokenizer.pad_token_id, zero_infinity=True)\n",
        "\n",
        "# Check if CUDA is available\n",
        "device = torch.device(\"cuda\" if torch.cuda.is_available() else \"cpu\")\n",
        "model.to(device)\n",
        "\n",
        "model.train()\n",
        "for epoch in range(num_epochs):\n",
        "    epoch_loss = 0.0\n",
        "    for batch in tqdm(train_loader):\n",
        "        input_values, labels, transcription = batch\n",
        "\n",
        "        # Move tensors to the appropriate device\n",
        "        input_values = input_values.to(device)\n",
        "        labels = labels.to(device)\n",
        "\n",
        "        # Forward pass\n",
        "        optimizer.zero_grad()\n",
        "        outputs = model(input_values, labels=labels)\n",
        "\n",
        "        # Ensure outputs contain the loss attribute\n",
        "        if hasattr(outputs, 'loss'):\n",
        "            loss = outputs.loss\n",
        "        else:\n",
        "            raise ValueError(\"Model outputs do not contain 'loss' attribute\")\n",
        "\n",
        "        # Backward pass and optimization\n",
        "        loss.backward()\n",
        "\n",
        "        # Clip the gradients\n",
        "        torch.nn.utils.clip_grad_norm_(model.parameters(), max_norm)\n",
        "\n",
        "        optimizer.step()\n",
        "\n",
        "        epoch_loss += loss.item()\n",
        "\n",
        "    scheduler.step()  # Update the learning rate\n",
        "\n",
        "    print(f\"Epoch {epoch+1}/{num_epochs}, Loss: {epoch_loss/len(train_loader)}\")\n",
        "\n",
        "# Save the model\n",
        "model.save_pretrained(\"asr_model\")\n",
        "processor.save_pretrained(\"asr_processor\")"
      ],
      "metadata": {
        "colab": {
          "base_uri": "https://localhost:8080/"
        },
        "id": "cgIX0XERDT2X",
        "outputId": "47b4d093-8852-4222-ba87-eea3809c2922",
        "collapsed": true
      },
      "execution_count": null,
      "outputs": [
        {
          "output_type": "stream",
          "name": "stderr",
          "text": [
            "100%|██████████| 15/15 [00:26<00:00,  1.78s/it]\n"
          ]
        },
        {
          "output_type": "stream",
          "name": "stdout",
          "text": [
            "Epoch 1/15, Loss: 248.7935385386149\n"
          ]
        },
        {
          "output_type": "stream",
          "name": "stderr",
          "text": [
            "100%|██████████| 15/15 [00:24<00:00,  1.61s/it]\n"
          ]
        },
        {
          "output_type": "stream",
          "name": "stdout",
          "text": [
            "Epoch 2/15, Loss: 112.55631980895996\n"
          ]
        },
        {
          "output_type": "stream",
          "name": "stderr",
          "text": [
            "100%|██████████| 15/15 [00:24<00:00,  1.66s/it]\n"
          ]
        },
        {
          "output_type": "stream",
          "name": "stdout",
          "text": [
            "Epoch 3/15, Loss: 131.49583123524982\n"
          ]
        },
        {
          "output_type": "stream",
          "name": "stderr",
          "text": [
            "100%|██████████| 15/15 [00:24<00:00,  1.64s/it]\n"
          ]
        },
        {
          "output_type": "stream",
          "name": "stdout",
          "text": [
            "Epoch 4/15, Loss: 134.92273406982423\n"
          ]
        },
        {
          "output_type": "stream",
          "name": "stderr",
          "text": [
            "100%|██████████| 15/15 [00:22<00:00,  1.52s/it]\n"
          ]
        },
        {
          "output_type": "stream",
          "name": "stdout",
          "text": [
            "Epoch 5/15, Loss: 113.93663005828857\n"
          ]
        },
        {
          "output_type": "stream",
          "name": "stderr",
          "text": [
            "100%|██████████| 15/15 [00:24<00:00,  1.62s/it]\n"
          ]
        },
        {
          "output_type": "stream",
          "name": "stdout",
          "text": [
            "Epoch 6/15, Loss: 90.54864069620768\n"
          ]
        },
        {
          "output_type": "stream",
          "name": "stderr",
          "text": [
            "100%|██████████| 15/15 [00:24<00:00,  1.65s/it]\n"
          ]
        },
        {
          "output_type": "stream",
          "name": "stdout",
          "text": [
            "Epoch 7/15, Loss: 106.04944483439128\n"
          ]
        },
        {
          "output_type": "stream",
          "name": "stderr",
          "text": [
            "100%|██████████| 15/15 [00:23<00:00,  1.59s/it]\n"
          ]
        },
        {
          "output_type": "stream",
          "name": "stdout",
          "text": [
            "Epoch 8/15, Loss: 73.14143905639648\n"
          ]
        },
        {
          "output_type": "stream",
          "name": "stderr",
          "text": [
            "100%|██████████| 15/15 [00:24<00:00,  1.61s/it]\n"
          ]
        },
        {
          "output_type": "stream",
          "name": "stdout",
          "text": [
            "Epoch 9/15, Loss: 105.86783294677734\n"
          ]
        },
        {
          "output_type": "stream",
          "name": "stderr",
          "text": [
            "100%|██████████| 15/15 [00:24<00:00,  1.61s/it]\n"
          ]
        },
        {
          "output_type": "stream",
          "name": "stdout",
          "text": [
            "Epoch 10/15, Loss: 83.71924235026042\n"
          ]
        },
        {
          "output_type": "stream",
          "name": "stderr",
          "text": [
            "100%|██████████| 15/15 [00:23<00:00,  1.60s/it]\n"
          ]
        },
        {
          "output_type": "stream",
          "name": "stdout",
          "text": [
            "Epoch 11/15, Loss: 101.1080083211263\n"
          ]
        },
        {
          "output_type": "stream",
          "name": "stderr",
          "text": [
            "100%|██████████| 15/15 [00:24<00:00,  1.61s/it]\n"
          ]
        },
        {
          "output_type": "stream",
          "name": "stdout",
          "text": [
            "Epoch 12/15, Loss: 52.32998046875\n"
          ]
        },
        {
          "output_type": "stream",
          "name": "stderr",
          "text": [
            "100%|██████████| 15/15 [00:23<00:00,  1.55s/it]\n"
          ]
        },
        {
          "output_type": "stream",
          "name": "stdout",
          "text": [
            "Epoch 13/15, Loss: 125.27219619750977\n"
          ]
        },
        {
          "output_type": "stream",
          "name": "stderr",
          "text": [
            "100%|██████████| 15/15 [00:23<00:00,  1.57s/it]\n"
          ]
        },
        {
          "output_type": "stream",
          "name": "stdout",
          "text": [
            "Epoch 14/15, Loss: 92.18804321289062\n"
          ]
        },
        {
          "output_type": "stream",
          "name": "stderr",
          "text": [
            "100%|██████████| 15/15 [00:24<00:00,  1.65s/it]\n"
          ]
        },
        {
          "output_type": "stream",
          "name": "stdout",
          "text": [
            "Epoch 15/15, Loss: 91.08114840189616\n"
          ]
        },
        {
          "output_type": "execute_result",
          "data": {
            "text/plain": [
              "[]"
            ]
          },
          "metadata": {},
          "execution_count": 55
        }
      ]
    },
    {
      "cell_type": "code",
      "source": [
        "# Save the model\n",
        "model.save_pretrained(\"asr_model_augmented\")\n",
        "processor.save_pretrained(\"asr_processor_augmented\")"
      ],
      "metadata": {
        "colab": {
          "base_uri": "https://localhost:8080/"
        },
        "collapsed": true,
        "id": "QIBYHaWSNLYh",
        "outputId": "4994aa13-a6b6-46fe-b3d6-bae1bccda86c"
      },
      "execution_count": null,
      "outputs": [
        {
          "output_type": "execute_result",
          "data": {
            "text/plain": [
              "[]"
            ]
          },
          "metadata": {},
          "execution_count": 61
        }
      ]
    },
    {
      "cell_type": "code",
      "source": [
        "# delete /content/asr_model\n",
        "!rm -rf /content/asr_processor_1_augmented"
      ],
      "metadata": {
        "id": "aA3S1L4swTR0"
      },
      "execution_count": null,
      "outputs": []
    },
    {
      "cell_type": "code",
      "source": [
        "# move asr models to /content/drive/MyDrive/BIA/7º Periodo/PAV/Trabalho Final/Modelos/Pipeline 1\n",
        "!mv /content/asr_model_augmented '/content/drive/MyDrive/BIA/7º Periodo/PAV/Trabalho Final/Modelos/Pipeline 1'\n",
        "!mv /content/asr_processor_augmented '/content/drive/MyDrive/BIA/7º Periodo/PAV/Trabalho Final/Modelos/Pipeline 1'"
      ],
      "metadata": {
        "id": "wPp-XDGowp_n"
      },
      "execution_count": null,
      "outputs": []
    },
    {
      "cell_type": "markdown",
      "source": [
        "## Evaluate model"
      ],
      "metadata": {
        "id": "OQtJaVaI1zVJ"
      }
    },
    {
      "cell_type": "markdown",
      "source": [
        "Aqui vamos importar nosso modelo treinado e avaliar a performance do modelo"
      ],
      "metadata": {
        "id": "rvcsBIbzzM_C"
      }
    },
    {
      "cell_type": "code",
      "source": [
        "# Initialize the processor and model\n",
        "processor = Wav2Vec2Processor.from_pretrained(\"/content/drive/MyDrive/BIA/7º Periodo/PAV/Trabalho Final/Modelos/Pipeline 1/asr_processor_augmented\")\n",
        "model = Wav2Vec2ForCTC.from_pretrained(\"/content/drive/MyDrive/BIA/7º Periodo/PAV/Trabalho Final/Modelos/Pipeline 1/asr_model_augmented\").to(\"cuda\")"
      ],
      "metadata": {
        "id": "xry386BhuZio"
      },
      "execution_count": null,
      "outputs": []
    },
    {
      "cell_type": "code",
      "source": [
        "processor = Wav2Vec2Processor.from_pretrained(\"facebook/wav2vec2-large-xlsr-53-portuguese\")\n",
        "model = Wav2Vec2ForCTC.from_pretrained(\"facebook/wav2vec2-large-xlsr-53-portuguese\").to(\"cuda\")\n"
      ],
      "metadata": {
        "colab": {
          "base_uri": "https://localhost:8080/"
        },
        "id": "uGYuMn5cxllZ",
        "outputId": "c905062b-affd-40b7-8c01-067cbf339825"
      },
      "execution_count": null,
      "outputs": [
        {
          "output_type": "stream",
          "name": "stderr",
          "text": [
            "Some weights of the model checkpoint at facebook/wav2vec2-large-xlsr-53-portuguese were not used when initializing Wav2Vec2ForCTC: ['wav2vec2.encoder.pos_conv_embed.conv.weight_g', 'wav2vec2.encoder.pos_conv_embed.conv.weight_v']\n",
            "- This IS expected if you are initializing Wav2Vec2ForCTC from the checkpoint of a model trained on another task or with another architecture (e.g. initializing a BertForSequenceClassification model from a BertForPreTraining model).\n",
            "- This IS NOT expected if you are initializing Wav2Vec2ForCTC from the checkpoint of a model that you expect to be exactly identical (initializing a BertForSequenceClassification model from a BertForSequenceClassification model).\n",
            "Some weights of Wav2Vec2ForCTC were not initialized from the model checkpoint at facebook/wav2vec2-large-xlsr-53-portuguese and are newly initialized: ['wav2vec2.encoder.pos_conv_embed.conv.parametrizations.weight.original0', 'wav2vec2.encoder.pos_conv_embed.conv.parametrizations.weight.original1']\n",
            "You should probably TRAIN this model on a down-stream task to be able to use it for predictions and inference.\n"
          ]
        }
      ]
    },
    {
      "cell_type": "code",
      "source": [
        "# Evaluation function\n",
        "def evaluate(model, dataloader, processor):\n",
        "    model.eval()\n",
        "    total_loss = 0\n",
        "    predictions, references = [], []\n",
        "    with torch.no_grad():\n",
        "        for batch in tqdm(dataloader):\n",
        "            input_values, labels, transcripts = batch\n",
        "            input_values = input_values.to(\"cuda\")\n",
        "            labels = labels.to(\"cuda\")\n",
        "\n",
        "            outputs = model(input_values, labels=labels)\n",
        "            loss = outputs.loss\n",
        "            total_loss += loss.item()\n",
        "\n",
        "            logits = outputs.logits\n",
        "            predicted_ids = torch.argmax(logits, dim=-1)\n",
        "            decoded_preds = processor.batch_decode(predicted_ids, skip_special_tokens=True)\n",
        "            decoded_refs = [processor.tokenizer.decode(label_ids, skip_special_tokens=True) for label_ids in labels]\n",
        "\n",
        "            predictions.extend(decoded_preds)\n",
        "            references.extend(transcripts)\n",
        "\n",
        "    avg_loss = total_loss / len(dataloader)\n",
        "    wer = jiwer.wer(references, predictions)\n",
        "    return avg_loss, wer, predictions, references\n",
        "\n",
        "# Evaluate the model on the test set\n",
        "test_loss, test_wer, predictions, references = evaluate(model, test_loader, processor)\n"
      ],
      "metadata": {
        "colab": {
          "base_uri": "https://localhost:8080/"
        },
        "id": "yiT1jLCE_vbO",
        "outputId": "07d564cc-b845-4a58-fae6-76184166eb78",
        "collapsed": true
      },
      "execution_count": null,
      "outputs": [
        {
          "output_type": "stream",
          "name": "stderr",
          "text": [
            "100%|██████████| 75/75 [00:49<00:00,  1.52it/s]\n"
          ]
        }
      ]
    },
    {
      "cell_type": "code",
      "source": [
        "print(f\"Test Loss: {test_loss}\")\n",
        "print(f\"Test WER: {test_wer}\")\n",
        "\n",
        "# Print some example predictions\n",
        "for i in range(100):\n",
        "    print(f\"Reference: {references[i]}\")\n",
        "    print(f\"Prediction: {predictions[i]}\")\n",
        "    print(\"---\")"
      ],
      "metadata": {
        "colab": {
          "base_uri": "https://localhost:8080/"
        },
        "id": "e1YNumrxxXuF",
        "outputId": "5f3620e0-45c4-4150-d511-5484acb2b6af"
      },
      "execution_count": null,
      "outputs": [
        {
          "output_type": "stream",
          "name": "stdout",
          "text": [
            "Test Loss: -149.9929384358724\n",
            "Test WER: 0.5007000840100813\n",
            "Reference: pode ir para cima já\n",
            "Prediction: pode ir paracimajá\n",
            "---\n",
            "Reference: você pode subir\n",
            "Prediction: você pode subir\n",
            "---\n",
            "Reference: só su\n",
            "Prediction: só suba\n",
            "---\n",
            "Reference: voa para cima\n",
            "Prediction: vouapracima\n",
            "---\n",
            "Reference: sobe\n",
            "Prediction: some\n",
            "---\n",
            "Reference: vai para cima\n",
            "Prediction: lápracima\n",
            "---\n",
            "Reference: suba cuidadosamente\n",
            "Prediction: suba cuidadosamente\n",
            "---\n",
            "Reference: Levanta logo\n",
            "Prediction: levanta logo\n",
            "---\n",
            "Reference: para cima\n",
            "Prediction: paracima\n",
            "---\n",
            "Reference: levanta devagar\n",
            "Prediction: levanta devagar\n",
            "---\n",
            "Reference: vamos subir\n",
            "Prediction: vamos subir\n",
            "---\n",
            "Reference: sobe rápido\n",
            "Prediction: sobe rápido\n",
            "---\n",
            "Reference: anda sobe\n",
            "Prediction: anda sobe\n",
            "---\n",
            "Reference: vai para cima\n",
            "Prediction: vai para cima\n",
            "---\n",
            "Reference: quero que\n",
            "Prediction: quero que suba\n",
            "---\n",
            "Reference: pode subir\n",
            "Prediction: pode subir\n",
            "---\n",
            "Reference: vai lá para cima\n",
            "Prediction: vai lá para cima\n",
            "---\n",
            "Reference: pode subir\n",
            "Prediction: pode subir\n",
            "---\n",
            "Reference: sobe\n",
            "Prediction: sobe já\n",
            "---\n",
            "Reference: sobe\n",
            "Prediction: sobe rápido\n",
            "---\n",
            "Reference: sobe\n",
            "Prediction: sabe logo\n",
            "---\n",
            "Reference: quero que suba\n",
            "Prediction: quero que suba\n",
            "---\n",
            "Reference: Vá para cima\n",
            "Prediction: vá para cima\n",
            "---\n",
            "Reference: vai lá sobe\n",
            "Prediction: vai lá sobe\n",
            "---\n",
            "Reference: vai subindo aí\n",
            "Prediction: vai subindo í\n",
            "---\n",
            "Reference: sobe bastante agora\n",
            "Prediction: some bastante agora\n",
            "---\n",
            "Reference: vai subindo aí\n",
            "Prediction: vai subindo hei\n",
            "---\n",
            "Reference: dá uma subida\n",
            "Prediction: nã uma subida\n",
            "---\n",
            "Reference: sobe\n",
            "Prediction: sobe\n",
            "---\n",
            "Reference: vai lá para cima\n",
            "Prediction: vai lá para cima\n",
            "---\n",
            "Reference: pode levantar\n",
            "Prediction: paide levantar\n",
            "---\n",
            "Reference: para cima por favor\n",
            "Prediction: pra cima por favor\n",
            "---\n",
            "Reference: sobe bastante\n",
            "Prediction: some bastante\n",
            "---\n",
            "Reference: vai para cima\n",
            "Prediction: vai para cima\n",
            "---\n",
            "Reference: vai para cima\n",
            "Prediction: vai para cima\n",
            "---\n",
            "Reference: para cima por favor\n",
            "Prediction: pracima por favor\n",
            "---\n",
            "Reference: vai subindo\n",
            "Prediction: váisubindoe\n",
            "---\n",
            "Reference: vamos para cima\n",
            "Prediction: vamos para cima\n",
            "---\n",
            "Reference: sobe um pouco\n",
            "Prediction: sobe umpouco\n",
            "---\n",
            "Reference: sobe mais\n",
            "Prediction: sobemais\n",
            "---\n",
            "Reference: sobe logo\n",
            "Prediction: sabe logo\n",
            "---\n",
            "Reference: sobe\n",
            "Prediction: sobe\n",
            "---\n",
            "Reference: sobe por favor\n",
            "Prediction: sobeporfavor\n",
            "---\n",
            "Reference: sobe mais um pouco\n",
            "Prediction: sobemais umpouco\n",
            "---\n",
            "Reference: vamos lá subindo\n",
            "Prediction: vamos lá subindo\n",
            "---\n",
            "Reference: vai para cima\n",
            "Prediction: vai para cima\n",
            "---\n",
            "Reference: para cima devagar\n",
            "Prediction: pracima edevagar\n",
            "---\n",
            "Reference: pode subir\n",
            "Prediction: pasobem\n",
            "---\n",
            "Reference: sobe\n",
            "Prediction: sabe\n",
            "---\n",
            "Reference: para cima\n",
            "Prediction: para cima\n",
            "---\n",
            "Reference: Levanta logo\n",
            "Prediction: levanta logo\n",
            "---\n",
            "Reference: voa vai para cima\n",
            "Prediction: voataca acima\n",
            "---\n",
            "Reference: sobe\n",
            "Prediction: sobe\n",
            "---\n",
            "Reference: suba\n",
            "Prediction: suba\n",
            "---\n",
            "Reference: vamos suba\n",
            "Prediction: vamos suba\n",
            "---\n",
            "Reference: manda um pouco para cima\n",
            "Prediction: dom poc paracima\n",
            "---\n",
            "Reference: pode ir subindo\n",
            "Prediction: pode ir subindo\n",
            "---\n",
            "Reference: vai para cima\n",
            "Prediction: vai pra cima\n",
            "---\n",
            "Reference: sobe\n",
            "Prediction: some\n",
            "---\n",
            "Reference: sobe rápido\n",
            "Prediction: saberápido\n",
            "---\n",
            "Reference: Suba logo\n",
            "Prediction: subalogo\n",
            "---\n",
            "Reference: sobe\n",
            "Prediction: sobe\n",
            "---\n",
            "Reference: suba agora\n",
            "Prediction: subadara\n",
            "---\n",
            "Reference: sobe\n",
            "Prediction: sobe\n",
            "---\n",
            "Reference: vai subindo\n",
            "Prediction: vai subindo\n",
            "---\n",
            "Reference: sobe\n",
            "Prediction: sobe\n",
            "---\n",
            "Reference: suba por favor\n",
            "Prediction: suba por favor\n",
            "---\n",
            "Reference: para cima agora\n",
            "Prediction: para cimagora\n",
            "---\n",
            "Reference: quero que\n",
            "Prediction: quero que suba\n",
            "---\n",
            "Reference: sobe\n",
            "Prediction: sobe\n",
            "---\n",
            "Reference: vai lá so\n",
            "Prediction: vai lá sobe\n",
            "---\n",
            "Reference: sobe mais\n",
            "Prediction: sobe mais\n",
            "---\n",
            "Reference: pode ir para cima\n",
            "Prediction: pode epracima\n",
            "---\n",
            "Reference: sobe\n",
            "Prediction: soamesemgasvida\n",
            "---\n",
            "Reference: pode subir deva\n",
            "Prediction: pode subirdevagar\n",
            "---\n",
            "Reference: vai para cima\n",
            "Prediction: vai para cila\n",
            "---\n",
            "Reference: pode ir subindo\n",
            "Prediction: pode ir subindo\n",
            "---\n",
            "Reference: pode ir subindo\n",
            "Prediction: pode ir subindo\n",
            "---\n",
            "Reference: vou agora\n",
            "Prediction: vouagora\n",
            "---\n",
            "Reference: vai para cima\n",
            "Prediction: vai para cima\n",
            "---\n",
            "Reference: voa para cima\n",
            "Prediction: vouapara cima\n",
            "---\n",
            "Reference: levante-se\n",
            "Prediction: levante-se\n",
            "---\n",
            "Reference: vai subindo rápido\n",
            "Prediction: vai subindo rápido\n",
            "---\n",
            "Reference: sobe\n",
            "Prediction: sobe\n",
            "---\n",
            "Reference: pode subir\n",
            "Prediction: pode subir\n",
            "---\n",
            "Reference: preciso que suba um pouco\n",
            "Prediction: preciso que sugo um pouco\n",
            "---\n",
            "Reference: anda para cima\n",
            "Prediction: anda para cima\n",
            "---\n",
            "Reference: vai subindo aí\n",
            "Prediction: vai subindo hei\n",
            "---\n",
            "Reference: suba agora\n",
            "Prediction: subagor\n",
            "---\n",
            "Reference: só sobe\n",
            "Prediction: só sobe\n",
            "---\n",
            "Reference: sobe para cima\n",
            "Prediction: sabe para cima\n",
            "---\n",
            "Reference: vamos para cima\n",
            "Prediction: vamos para cima\n",
            "---\n",
            "Reference: vai para cima logo\n",
            "Prediction: vai para cimalogo\n",
            "---\n",
            "Reference: sobe devagar\n",
            "Prediction: sobetivagar\n",
            "---\n",
            "Reference: vai lá para cima\n",
            "Prediction: vai lá para cima\n",
            "---\n",
            "Reference: sobe agora\n",
            "Prediction: sobe agora\n",
            "---\n",
            "Reference: vai para cima\n",
            "Prediction: vai para cima\n",
            "---\n",
            "Reference: sobe já\n",
            "Prediction: sobe já\n",
            "---\n",
            "Reference: sobe\n",
            "Prediction: sobe ah\n",
            "---\n",
            "Reference: Sai do chão voa\n",
            "Prediction: sai do chão vo\n",
            "---\n"
          ]
        }
      ]
    },
    {
      "cell_type": "code",
      "source": [
        "# zip asr_model and processor\n",
        "!zip -r /content/asr_model_1.zip /content/asr_model\n",
        "!zip -r /content/asr_processor_1.zip /content/asr_processor"
      ],
      "metadata": {
        "id": "gP-hqBLurOxG",
        "colab": {
          "base_uri": "https://localhost:8080/"
        },
        "outputId": "feadae5c-1601-4001-f8d6-bdc041d008da"
      },
      "execution_count": null,
      "outputs": [
        {
          "output_type": "stream",
          "name": "stdout",
          "text": [
            "  adding: content/asr_model/ (stored 0%)\n",
            "  adding: content/asr_model/model.safetensors (deflated 7%)\n",
            "  adding: content/asr_model/config.json (deflated 64%)\n",
            "  adding: content/asr_processor/ (stored 0%)\n",
            "  adding: content/asr_processor/vocab.json (deflated 55%)\n",
            "  adding: content/asr_processor/special_tokens_map.json (deflated 45%)\n",
            "  adding: content/asr_processor/tokenizer_config.json (deflated 71%)\n",
            "  adding: content/asr_processor/preprocessor_config.json (deflated 39%)\n"
          ]
        }
      ]
    }
  ]
}